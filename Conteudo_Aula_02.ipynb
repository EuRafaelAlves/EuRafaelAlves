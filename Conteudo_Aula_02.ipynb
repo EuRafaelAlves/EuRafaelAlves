{
 "cells": [
  {
   "cell_type": "code",
   "execution_count": 1,
   "id": "ff8a125c-a3a7-427e-91e6-6ea19d77f66b",
   "metadata": {},
   "outputs": [],
   "source": [
    "#Aula de Operações"
   ]
  },
  {
   "cell_type": "code",
   "execution_count": 3,
   "id": "36b70d8a-f42d-4886-a0dc-7ddce8fddf7e",
   "metadata": {},
   "outputs": [
    {
     "name": "stdout",
     "output_type": "stream",
     "text": [
      "749.5\n"
     ]
    }
   ],
   "source": [
    "#Exemplo de operação com variáveis float\n",
    "\n",
    "saldo_atual = 2500.00\n",
    "valor_fatura = 1750.50\n",
    "saldo_futuro = saldo_atual - valor_fatura\n",
    "print(saldo_futuro)\n"
   ]
  },
  {
   "cell_type": "code",
   "execution_count": 15,
   "id": "173a602b-47d0-4432-92eb-f2e89b5b3b8d",
   "metadata": {},
   "outputs": [
    {
     "name": "stdout",
     "output_type": "stream",
     "text": [
      "A temperatura é de: 13.61\n"
     ]
    }
   ],
   "source": [
    "# Exercício de Fixação - Você não sabe se está frio ou quente, porque te passaram a temperatura de 56,5 em Fahrenheit. \n",
    "#Use float e operações para resolver esse problema\n",
    "\n",
    "# formula de conversão -> C = (F - 32) * 5 / 9\n",
    "\n",
    "grau_fahrenheit = 56.5\n",
    "grau_celsius = (grau_fahrenheit - 32) * 5 / 9\n",
    "print(f\"A temperatura é de: {grau_celsius:.2f}\")"
   ]
  },
  {
   "cell_type": "code",
   "execution_count": null,
   "id": "8ac1f4aa-7f38-437c-878a-954f906d3659",
   "metadata": {},
   "outputs": [],
   "source": [
    "#Operações aritméticas com inteiros e pontos flutuantes\n",
    "#Além da soma, subtração, divisão e multiplicação para inteiros, temos o resto da divisão!"
   ]
  },
  {
   "cell_type": "code",
   "execution_count": 17,
   "id": "ef7f39ca-4a20-4035-9e82-24dea93c9c06",
   "metadata": {},
   "outputs": [
    {
     "name": "stdout",
     "output_type": "stream",
     "text": [
      "2\n"
     ]
    }
   ],
   "source": [
    "# calculando o resto da divisão de 14 por 3\n",
    "print(14 % 3)"
   ]
  },
  {
   "cell_type": "code",
   "execution_count": 19,
   "id": "84d56430-b76b-42b4-a2a5-ac7b563bdb10",
   "metadata": {},
   "outputs": [
    {
     "name": "stdout",
     "output_type": "stream",
     "text": [
      "7\n"
     ]
    }
   ],
   "source": [
    "# a built-in function abs calcula o valor absoluto\n",
    "print(abs(-7))"
   ]
  },
  {
   "cell_type": "code",
   "execution_count": 21,
   "id": "cfc23f1a-aad8-4946-a94c-4a9e972ab0e9",
   "metadata": {},
   "outputs": [
    {
     "data": {
      "text/plain": [
       "15.57"
      ]
     },
     "execution_count": 21,
     "metadata": {},
     "output_type": "execute_result"
    }
   ],
   "source": [
    "#Para pontos flutuantes não temos resto da divisão. Uma built-in function interessante para pontos flutuante é a round.\n",
    "\n",
    "# Arredondando um ponto flutuante duas cadas decimais\n",
    "round(15.56865632, 2)\n"
   ]
  },
  {
   "cell_type": "code",
   "execution_count": 27,
   "id": "3dda97b2-9368-4eec-b16e-4a2ca724e263",
   "metadata": {},
   "outputs": [
    {
     "data": {
      "text/plain": [
       "False"
      ]
     },
     "execution_count": 27,
     "metadata": {},
     "output_type": "execute_result"
    }
   ],
   "source": [
    "#Expressões lógicas com inteiros e pontos flutuantes\n",
    "\n",
    "5 > 6"
   ]
  },
  {
   "cell_type": "code",
   "execution_count": 29,
   "id": "48404204-4c98-419e-be04-6de55a8f5eb5",
   "metadata": {},
   "outputs": [
    {
     "data": {
      "text/plain": [
       "True"
      ]
     },
     "execution_count": 29,
     "metadata": {},
     "output_type": "execute_result"
    }
   ],
   "source": [
    "5 < 6"
   ]
  },
  {
   "cell_type": "code",
   "execution_count": 31,
   "id": "bb922478-bf97-4185-8f68-e7ced8b21e65",
   "metadata": {},
   "outputs": [
    {
     "data": {
      "text/plain": [
       "True"
      ]
     },
     "execution_count": 31,
     "metadata": {},
     "output_type": "execute_result"
    }
   ],
   "source": [
    "6>= 6"
   ]
  },
  {
   "cell_type": "code",
   "execution_count": 33,
   "id": "2f472d48-592d-4337-88ec-f5448c27b122",
   "metadata": {},
   "outputs": [
    {
     "data": {
      "text/plain": [
       "False"
      ]
     },
     "execution_count": 33,
     "metadata": {},
     "output_type": "execute_result"
    }
   ],
   "source": [
    "6 != 6"
   ]
  },
  {
   "cell_type": "code",
   "execution_count": 35,
   "id": "87fd1890-b495-4f1e-a371-4f0cd80e9346",
   "metadata": {},
   "outputs": [
    {
     "data": {
      "text/plain": [
       "True"
      ]
     },
     "execution_count": 35,
     "metadata": {},
     "output_type": "execute_result"
    }
   ],
   "source": [
    "6 == 6"
   ]
  },
  {
   "cell_type": "code",
   "execution_count": 43,
   "id": "5fc461a0-65e9-4b02-97a6-d51b68e7e632",
   "metadata": {},
   "outputs": [
    {
     "data": {
      "text/plain": [
       "True"
      ]
     },
     "execution_count": 43,
     "metadata": {},
     "output_type": "execute_result"
    }
   ],
   "source": [
    "not (5 > 6)\n",
    "\n",
    "# O not não diz que uma \"verdade\" é falsa — ele apenas inverte o valor lógico:\n",
    "#Se algo é True, vira False;\n",
    "#Se é False, vira True."
   ]
  },
  {
   "cell_type": "code",
   "execution_count": 45,
   "id": "08642580-05b5-4aae-9e97-9741a90de8f9",
   "metadata": {},
   "outputs": [
    {
     "data": {
      "text/plain": [
       "False"
      ]
     },
     "execution_count": 45,
     "metadata": {},
     "output_type": "execute_result"
    }
   ],
   "source": [
    "( 5 > 6) and ( 5 < 6)"
   ]
  },
  {
   "cell_type": "code",
   "execution_count": 47,
   "id": "1410cb99-de4e-4d50-a27c-fc5ce6faeb68",
   "metadata": {},
   "outputs": [
    {
     "data": {
      "text/plain": [
       "True"
      ]
     },
     "execution_count": 47,
     "metadata": {},
     "output_type": "execute_result"
    }
   ],
   "source": [
    "( 5 > 6) or ( 5 < 6)"
   ]
  },
  {
   "cell_type": "code",
   "execution_count": 49,
   "id": "5818a59f-dba4-4cc9-be04-2f55d3651e80",
   "metadata": {},
   "outputs": [],
   "source": [
    "#Operações com string\n",
    "#Ao somar strings você concatena as duas:"
   ]
  },
  {
   "cell_type": "code",
   "execution_count": 51,
   "id": "50dd858b-46ee-4c10-bf67-516632cc4b53",
   "metadata": {},
   "outputs": [
    {
     "name": "stdout",
     "output_type": "stream",
     "text": [
      "bobbia\n"
     ]
    }
   ],
   "source": [
    "me = 'bob'\n",
    "she = 'bia'\n",
    "us = me + she\n",
    "print(us)\n"
   ]
  },
  {
   "cell_type": "code",
   "execution_count": 53,
   "id": "8397c131-565f-4b65-b9c8-fb2903649811",
   "metadata": {},
   "outputs": [],
   "source": [
    "# é possivel multiplicar strings. Isso faz com que ela se repita"
   ]
  },
  {
   "cell_type": "code",
   "execution_count": 57,
   "id": "b08a47c0-8625-4c01-9fb6-04ea7702d13f",
   "metadata": {},
   "outputs": [
    {
     "name": "stdout",
     "output_type": "stream",
     "text": [
      "bobbobbobbobbobbobbob\n"
     ]
    }
   ],
   "source": [
    "me = 'bob'\n",
    "many_mes = 7 * me\n",
    "print(many_mes)"
   ]
  },
  {
   "cell_type": "code",
   "execution_count": 63,
   "id": "49c61983-4c0d-408f-9cb8-720c47f7f9b3",
   "metadata": {},
   "outputs": [
    {
     "name": "stdout",
     "output_type": "stream",
     "text": [
      "True\n"
     ]
    }
   ],
   "source": [
    "#Existe ainda o operador lógico in que verifica se um objeto pertence a um iterável:\n",
    "\n",
    "objeto = \"rei\"\n",
    "iteravel = \"O rato roeu a roupa do rei de roma.\"\n",
    "print(objeto in iteravel)\n",
    "\n",
    "#A string iteravel é iterável porque você pode percorrê-la caractere por caractere.\n",
    "#O in verifica se uma substring (\"rei\") está contida na string completa.\n",
    "#E como está, o resultado é True."
   ]
  },
  {
   "cell_type": "code",
   "execution_count": 65,
   "id": "caa1356a-993d-45b2-a211-50bfeeafa999",
   "metadata": {},
   "outputs": [
    {
     "name": "stdout",
     "output_type": "stream",
     "text": [
      "False\n"
     ]
    }
   ],
   "source": [
    "objeto = \"cenoura\"\n",
    "iteravel = ['abacaxi', 'pera', 'uva', 'banana']\n",
    "print(objeto in iteravel)"
   ]
  },
  {
   "cell_type": "code",
   "execution_count": 69,
   "id": "d9365ff0-4085-4724-8cc1-e4ff62b490d0",
   "metadata": {},
   "outputs": [
    {
     "name": "stdout",
     "output_type": "stream",
     "text": [
      "['abacaxi\\n', 'cenoura\\n', 'pera\\n', 'uva\\n', 'batata\\n', 'cebola\\n', 'melancia\\n', 'couve\\n', 'alface\\n', 'acelga\\n']\n"
     ]
    }
   ],
   "source": [
    "#Lendo um txt\n",
    "#Na sua pasta tem um arquivo chamado lista de compras com o seguinte conteúdo:\n",
    "# abrindo o arquivo:\n",
    "f = open(\"lista_compras.txt\",'r')\n",
    "\n",
    "# colocando cada linha num elemento de uma lista\n",
    "lista_compras = f.readlines()\n",
    "\n",
    "# imprimindo a lista\n",
    "print(lista_compras)"
   ]
  },
  {
   "cell_type": "code",
   "execution_count": 73,
   "id": "aba4c8b4-7b9c-4dc2-85f9-3e687e3827fd",
   "metadata": {},
   "outputs": [],
   "source": [
    "# fechando o arquivo\n",
    "#O caracter \\n significa que há uma quebra de linha.\n",
    "f.close()"
   ]
  },
  {
   "cell_type": "code",
   "execution_count": 75,
   "id": "bc7cc3f3-e2b2-4a5a-b602-aa606202ecdd",
   "metadata": {},
   "outputs": [
    {
     "name": "stdout",
     "output_type": "stream",
     "text": [
      "batatinha quando nasce\n",
      "se esparrama pelo chão\n"
     ]
    }
   ],
   "source": [
    "# Exemplo de uso do '\\n'\n",
    "poema = \"batatinha quando nasce\\nse esparrama pelo chão\"\n",
    "print(poema)"
   ]
  },
  {
   "cell_type": "code",
   "execution_count": 77,
   "id": "6d5c4350-3ea5-4a56-896f-4c524103d5ff",
   "metadata": {},
   "outputs": [
    {
     "name": "stdout",
     "output_type": "stream",
     "text": [
      "True\n"
     ]
    }
   ],
   "source": [
    "#Verificaremos se uva está na lista. Não se esqueça do \\n.\n",
    "fruta = 'uva\\n'\n",
    "print(fruta in lista_compras)"
   ]
  },
  {
   "cell_type": "code",
   "execution_count": 83,
   "id": "f72762ea-fb6b-4d17-849d-31940dea9804",
   "metadata": {},
   "outputs": [
    {
     "name": "stdout",
     "output_type": "stream",
     "text": [
      "[4, 8, 3, 20]\n"
     ]
    }
   ],
   "source": [
    "#Built-in function map\n",
    "#A build-in function map serve para aplicar funções em toda uma lista!\n",
    "\n",
    "# criando uma lista de palavras\n",
    "lista_words = ['amor','papagaio','rua','juazeiro e petrolina']\n",
    "\n",
    "# aplicando len a cada elemento da lista\n",
    "counts = map(len, lista_words)\n",
    "\n",
    "# mudando o tipo de counts para list\n",
    "counts = list(counts)\n",
    "\n",
    "# imprimindo a lista counts\n",
    "print(counts)\n",
    "\n",
    "#Observe que a lista abaixo mostra o número exato de caracteres de string na lista list_words."
   ]
  },
  {
   "cell_type": "code",
   "execution_count": null,
   "id": "1209f5e2-e458-4fc5-be23-d75acc431b0b",
   "metadata": {},
   "outputs": [],
   "source": []
  }
 ],
 "metadata": {
  "kernelspec": {
   "display_name": "Python [conda env:Rafael]",
   "language": "python",
   "name": "conda-env-Rafael-py"
  },
  "language_info": {
   "codemirror_mode": {
    "name": "ipython",
    "version": 3
   },
   "file_extension": ".py",
   "mimetype": "text/x-python",
   "name": "python",
   "nbconvert_exporter": "python",
   "pygments_lexer": "ipython3",
   "version": "3.12.9"
  }
 },
 "nbformat": 4,
 "nbformat_minor": 5
}
