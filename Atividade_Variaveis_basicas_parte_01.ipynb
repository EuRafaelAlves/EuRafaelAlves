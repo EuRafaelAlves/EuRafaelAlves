{
 "cells": [
  {
   "cell_type": "code",
   "execution_count": 16,
   "id": "4129d23d-fda7-429d-aeb4-37ae250f8906",
   "metadata": {},
   "outputs": [],
   "source": [
    "# para responder as questões foi deifinido o seguinte valor para a variavél x"
   ]
  },
  {
   "cell_type": "code",
   "execution_count": 15,
   "id": "350e41ac-7071-406e-beb9-77b128959621",
   "metadata": {},
   "outputs": [
    {
     "data": {
      "text/plain": [
       "int"
      ]
     },
     "execution_count": 15,
     "metadata": {},
     "output_type": "execute_result"
    }
   ],
   "source": [
    "# Questão 01 - Qual o tipo de variável x?\n",
    "x = 5\n",
    "type(x)"
   ]
  },
  {
   "cell_type": "code",
   "execution_count": 49,
   "id": "c0e3336c-d260-4a29-a287-e46c8d6b1738",
   "metadata": {},
   "outputs": [
    {
     "data": {
      "text/plain": [
       "74"
      ]
     },
     "execution_count": 49,
     "metadata": {},
     "output_type": "execute_result"
    }
   ],
   "source": [
    "# Questão 2 - Quantos métodos tem x?\n",
    "x = 5\n",
    "len(dir(x))"
   ]
  },
  {
   "cell_type": "code",
   "execution_count": 50,
   "id": "14e4b43c-e543-4805-9003-24c4614509e7",
   "metadata": {},
   "outputs": [
    {
     "name": "stdout",
     "output_type": "stream",
     "text": [
      "x NÃO é iterável.\n"
     ]
    }
   ],
   "source": [
    "# Questão 3 - x é iterável?\n",
    "# DICA: use a build-in function len\n",
    "\n",
    "x = 5\n",
    "\n",
    "try:\n",
    "    len(x)\n",
    "    print(\"x é iterável.\")\n",
    "except TypeError:\n",
    "    print(\"x NÃO é iterável.\")"
   ]
  },
  {
   "cell_type": "code",
   "execution_count": 51,
   "id": "d4bf0f8a-4c6c-452c-ac4f-29ca76a6132c",
   "metadata": {},
   "outputs": [
    {
     "data": {
      "text/plain": [
       "list"
      ]
     },
     "execution_count": 51,
     "metadata": {},
     "output_type": "execute_result"
    }
   ],
   "source": [
    "# Questão 4 - Qual o tipo de variável de x?\n",
    "# abaixo é atribuído [1,2,'pim',4,5,'pim'] a x\n",
    "x = [1,2,'pim',4,5,'pim']\n",
    "\n",
    "type(x)"
   ]
  },
  {
   "cell_type": "code",
   "execution_count": 52,
   "id": "2a85be50-c42d-4d21-a202-6bd660beb25a",
   "metadata": {},
   "outputs": [
    {
     "data": {
      "text/plain": [
       "48"
      ]
     },
     "execution_count": 52,
     "metadata": {},
     "output_type": "execute_result"
    }
   ],
   "source": [
    "# Questão 5 - Quantos métodos tem x?\n",
    "\n",
    "x = [1,2,'pim',4,5,'pim']\n",
    "len(dir(x))"
   ]
  },
  {
   "cell_type": "code",
   "execution_count": 53,
   "id": "c7735285-58de-4239-b2a4-471d6680c054",
   "metadata": {},
   "outputs": [
    {
     "name": "stdout",
     "output_type": "stream",
     "text": [
      "Help on built-in function reverse:\n",
      "\n",
      "reverse() method of builtins.list instance\n",
      "    Reverse *IN PLACE*.\n",
      "\n"
     ]
    }
   ],
   "source": [
    "# Questão 6 - Imprima a ajuda sobre o anti-penúltimo método de x?\n",
    "\n",
    "x = [1,2,'pim',4,5,'pim']\n",
    "dir(x)\n",
    "help(x.reverse)"
   ]
  },
  {
   "cell_type": "code",
   "execution_count": 54,
   "id": "6c70fa52-f562-422a-b5e7-b10ef80d67c9",
   "metadata": {},
   "outputs": [
    {
     "name": "stdout",
     "output_type": "stream",
     "text": [
      "[1, 2, 4, 5]\n"
     ]
    }
   ],
   "source": [
    "# Questão 7 - use o método remove de x para remover os 'prin's\n",
    "\n",
    "x = [1, 2, 'pim', 4, 5, 'pim']\n",
    "\n",
    "while 'pim' in x:\n",
    "    x.remove('pim')\n",
    "\n",
    "print(x)\n"
   ]
  },
  {
   "cell_type": "code",
   "execution_count": 55,
   "id": "4337c4f1-1acb-434c-9081-c21a02f64801",
   "metadata": {},
   "outputs": [
    {
     "name": "stdout",
     "output_type": "stream",
     "text": [
      "[1, 2, 'pim', 4, 5, 'pim']\n",
      "[1, 2, 4, 5]\n"
     ]
    }
   ],
   "source": [
    "# Questão 8 - imprima x\n",
    "x = [1, 2, 'pim', 4, 5, 'pim']\n",
    "print(x)\n",
    "\n",
    "\n",
    "# sem os 'prin's\n",
    "\n",
    "x = [1, 2, 'pim', 4, 5, 'pim']\n",
    "\n",
    "while 'pim' in x:\n",
    "    x.remove('pim')\n",
    "\n",
    "print(x)"
   ]
  },
  {
   "cell_type": "code",
   "execution_count": 56,
   "id": "de43a869-df1f-47df-a0d5-4142d1669670",
   "metadata": {},
   "outputs": [
    {
     "name": "stdout",
     "output_type": "stream",
     "text": [
      "x é iterável.\n"
     ]
    }
   ],
   "source": [
    "# Questão 9 - x é interavel?\n",
    "x = [1, 2, 'pim', 4, 5, 'pim']\n",
    "try:\n",
    "    len(x)\n",
    "    print(\"x é iterável.\")\n",
    "except TypeError:\n",
    "    print(\"x NÃO é iterável.\")"
   ]
  },
  {
   "cell_type": "code",
   "execution_count": 57,
   "id": "ce892880-6482-4eaf-a4a7-e8c3dd30659f",
   "metadata": {},
   "outputs": [
    {
     "data": {
      "text/plain": [
       "dict"
      ]
     },
     "execution_count": 57,
     "metadata": {},
     "output_type": "execute_result"
    }
   ],
   "source": [
    "#Questão 10 - Qual o tipo de variável x?\n",
    "\n",
    "x = {\n",
    "    \"alunos\": ['ted','bia','bob'],\n",
    "    \"notas\":[7,5,9],\n",
    "    \"universidade\": \"UFTM\",\n",
    "    \"ano\": 2015\n",
    "}\n",
    "\n",
    "type(x)"
   ]
  },
  {
   "cell_type": "code",
   "execution_count": 58,
   "id": "cd454950-a961-461b-adf8-f616f207f763",
   "metadata": {},
   "outputs": [
    {
     "data": {
      "text/plain": [
       "46"
      ]
     },
     "execution_count": 58,
     "metadata": {},
     "output_type": "execute_result"
    }
   ],
   "source": [
    "#Questão 11 - Quantos métodos tem x?\n",
    "\n",
    "x = {\n",
    "    \"alunos\": ['ted','bia','bob'],\n",
    "    \"notas\":[7,5,9],\n",
    "    \"universidade\": \"UFTM\",\n",
    "    \"ano\": 2015\n",
    "}\n",
    "\n",
    "len(dir(x))"
   ]
  },
  {
   "cell_type": "code",
   "execution_count": 59,
   "id": "476dd66c-616c-44c0-88c4-cbd38816c49b",
   "metadata": {},
   "outputs": [
    {
     "name": "stdout",
     "output_type": "stream",
     "text": [
      "Help on built-in function keys:\n",
      "\n",
      "keys(...) method of builtins.dict instance\n",
      "    D.keys() -> a set-like object providing a view on D's keys\n",
      "\n"
     ]
    }
   ],
   "source": [
    "#Questão 12 - Mostre ajuda sobre o método Keys\n",
    "\n",
    "x = {\n",
    "    \"alunos\": ['ted','bia','bob'],\n",
    "    \"notas\":[7,5,9],\n",
    "    \"universidade\": \"UFTM\",\n",
    "    \"ano\": 2015\n",
    "}\n",
    "\n",
    "help(x.keys)"
   ]
  },
  {
   "cell_type": "code",
   "execution_count": 60,
   "id": "1e442be8-5aee-40b1-a716-48a46bcaea39",
   "metadata": {},
   "outputs": [
    {
     "name": "stdout",
     "output_type": "stream",
     "text": [
      "dict_keys(['alunos', 'notas', 'universidade', 'ano'])\n"
     ]
    }
   ],
   "source": [
    "#Questão 13 - Imprima o retorno do método keys\n",
    "\n",
    "x = {\n",
    "    \"alunos\": ['ted','bia','bob'],\n",
    "    \"notas\":[7,5,9],\n",
    "    \"universidade\": \"UFTM\",\n",
    "    \"ano\": 2015\n",
    "}\n",
    "\n",
    "print(x.keys())"
   ]
  },
  {
   "cell_type": "code",
   "execution_count": 61,
   "id": "d734479f-7463-4d12-b25b-a1b7d0fbe73b",
   "metadata": {},
   "outputs": [
    {
     "name": "stdout",
     "output_type": "stream",
     "text": [
      "Help on built-in function values:\n",
      "\n",
      "values(...) method of builtins.dict instance\n",
      "    D.values() -> an object providing a view on D's values\n",
      "\n"
     ]
    }
   ],
   "source": [
    "#Questão 14 - mostre ajuda sobre o método values\n",
    "\n",
    "x = {\n",
    "    \"alunos\": ['ted','bia','bob'],\n",
    "    \"notas\":[7,5,9],\n",
    "    \"universidade\": \"UFTM\",\n",
    "    \"ano\": 2015\n",
    "}\n",
    "\n",
    "help(x.values)"
   ]
  },
  {
   "cell_type": "code",
   "execution_count": 62,
   "id": "c52cf359-929b-47bd-8a36-b9a74558e3ee",
   "metadata": {},
   "outputs": [
    {
     "name": "stdout",
     "output_type": "stream",
     "text": [
      "dict_values([['ted', 'bia', 'bob'], [7, 5, 9], 'UFTM', 2015])\n"
     ]
    }
   ],
   "source": [
    "#Questão 15 - Imprima o retorno do método volues\n",
    "\n",
    "x = {\n",
    "    \"alunos\": ['ted','bia','bob'],\n",
    "    \"notas\":[7,5,9],\n",
    "    \"universidade\": \"UFTM\",\n",
    "    \"ano\": 2015\n",
    "}\n",
    "\n",
    "print(x.values())"
   ]
  },
  {
   "cell_type": "code",
   "execution_count": 63,
   "id": "635e8630-99b9-462d-b223-c491c2b5f7bb",
   "metadata": {},
   "outputs": [
    {
     "name": "stdout",
     "output_type": "stream",
     "text": [
      "x é iterável.\n"
     ]
    }
   ],
   "source": [
    "#Questão 16 - x é interável?\n",
    "\n",
    "x = {\n",
    "    \"alunos\": ['ted','bia','bob'],\n",
    "    \"notas\":[7,5,9],\n",
    "    \"universidade\": \"UFTM\",\n",
    "    \"ano\": 2015\n",
    "}\n",
    "\n",
    "try:\n",
    "    len(x)\n",
    "    print(\"x é iterável.\")\n",
    "except TypeError:\n",
    "    print(\"x NÃO é iterável.\")"
   ]
  },
  {
   "cell_type": "code",
   "execution_count": 66,
   "id": "e93154d7-8775-49ec-95d6-0f45edab63c4",
   "metadata": {},
   "outputs": [
    {
     "name": "stdout",
     "output_type": "stream",
     "text": [
      "secesso\n"
     ]
    }
   ],
   "source": [
    "#DESAFIO\n",
    "\n",
    "#Use o método dos strings para substituir 'progr' por 'sec'\n",
    "\n",
    "x = \"progresso\"\n",
    "\n",
    "print(x.replace(\"progr\", \"sec\"))"
   ]
  },
  {
   "cell_type": "code",
   "execution_count": null,
   "id": "973fdb0d-18f6-442e-a769-3d572dbb2afa",
   "metadata": {},
   "outputs": [],
   "source": [
    "#Usando as funções max(), min() e sum() "
   ]
  },
  {
   "cell_type": "code",
   "execution_count": 69,
   "id": "dab4bf84-d189-4238-923f-2b1aade0e48f",
   "metadata": {},
   "outputs": [],
   "source": [
    "#Questão 17 - Crie uma lista do tipo float\n",
    "\n",
    "R = [1.5, 2.7, 3.14, 4.8, 6.02]"
   ]
  },
  {
   "cell_type": "code",
   "execution_count": 71,
   "id": "02f303de-4fb3-4ddd-bd4b-16424f89452d",
   "metadata": {},
   "outputs": [
    {
     "name": "stdout",
     "output_type": "stream",
     "text": [
      "6.02\n"
     ]
    }
   ],
   "source": [
    "#Questão 18 - Usando os built-in functions, imprima o maior valor do elementos da lista\n",
    "\n",
    "R = [1.5, 2.7, 3.14, 4.8, 6.02]\n",
    "print(max(R))"
   ]
  },
  {
   "cell_type": "code",
   "execution_count": 72,
   "id": "47cd6a88-9685-47c0-b83b-c901dc27a719",
   "metadata": {},
   "outputs": [
    {
     "name": "stdout",
     "output_type": "stream",
     "text": [
      "1.5\n"
     ]
    }
   ],
   "source": [
    "#Questão 19 - Usando os built-in functions, imprima o menor valor do elementos da lista\n",
    "\n",
    "R = [1.5, 2.7, 3.14, 4.8, 6.02]\n",
    "print(min(R))"
   ]
  },
  {
   "cell_type": "code",
   "execution_count": 73,
   "id": "f23d5dd6-4421-4245-86cb-1190d3f5f1e2",
   "metadata": {},
   "outputs": [
    {
     "name": "stdout",
     "output_type": "stream",
     "text": [
      "18.16\n"
     ]
    }
   ],
   "source": [
    "#Questão 20 - Usando os built-in functions, imprima a soma de todos os elementos da lista\n",
    "\n",
    "R = [1.5, 2.7, 3.14, 4.8, 6.02]\n",
    "print(sum(R))"
   ]
  },
  {
   "cell_type": "code",
   "execution_count": 74,
   "id": "d8644f72-d1dd-4e0f-80c2-df68f3d6b8e2",
   "metadata": {},
   "outputs": [
    {
     "data": {
      "text/plain": [
       "set"
      ]
     },
     "execution_count": 74,
     "metadata": {},
     "output_type": "execute_result"
    }
   ],
   "source": [
    "#Questão 21 - Qual o tipo da variável x?\n",
    "\n",
    "x = {1,2,3,2,3,5,6,5}\n",
    "\n",
    "type(x)"
   ]
  },
  {
   "cell_type": "code",
   "execution_count": 75,
   "id": "688230af-0be9-462e-86e5-9ac53280487f",
   "metadata": {},
   "outputs": [
    {
     "data": {
      "text/plain": [
       "57"
      ]
     },
     "execution_count": 75,
     "metadata": {},
     "output_type": "execute_result"
    }
   ],
   "source": [
    "#Questão 22 - Quantos métodos tem a variável x?\n",
    "\n",
    "x = {1,2,3,2,3,5,6,5}\n",
    "\n",
    "len(dir(x))"
   ]
  },
  {
   "cell_type": "code",
   "execution_count": 90,
   "id": "70edf307-a0fb-4e46-8b45-bcc1706a57e1",
   "metadata": {},
   "outputs": [
    {
     "name": "stdout",
     "output_type": "stream",
     "text": [
      "{1, 2, 3, 5}\n"
     ]
    }
   ],
   "source": [
    "#Questão 23 - Utilize o método remove para remover o número 6 de x\n",
    "\n",
    "x = {1,2,3,2,3,5,6,5} # os valores repetidos são removidos automaticamente\n",
    "x.remove(6)\n",
    "print(x)"
   ]
  },
  {
   "cell_type": "code",
   "execution_count": 92,
   "id": "764599d8-88b7-471f-9ea1-c91a3f38c646",
   "metadata": {},
   "outputs": [
    {
     "name": "stdout",
     "output_type": "stream",
     "text": [
      "x é iterável.\n"
     ]
    }
   ],
   "source": [
    "#Questão 24 - x é iterável?\n",
    "## DICA: use a built-in function len\n",
    "x = {1,2,3,2,3,5,6,5}\n",
    "try:\n",
    "    len(x)\n",
    "    print(\"x é iterável.\")\n",
    "except TypeError:\n",
    "    print(\"x NÃO é iterável.\")"
   ]
  },
  {
   "cell_type": "code",
   "execution_count": 93,
   "id": "e33b6849-1b46-414c-8fc8-827e4906f670",
   "metadata": {},
   "outputs": [
    {
     "name": "stdout",
     "output_type": "stream",
     "text": [
      "{1, 2, 3, 5, 6}\n"
     ]
    }
   ],
   "source": [
    "#Questão 25 - imprima o objeto x\n",
    "\n",
    "x = {1,2,3,2,3,5,6,5}\n",
    "print(x)"
   ]
  },
  {
   "cell_type": "code",
   "execution_count": 94,
   "id": "dc6bed63-6838-4b35-b263-dfd9c5bfd757",
   "metadata": {},
   "outputs": [
    {
     "data": {
      "text/plain": [
       "8"
      ]
     },
     "execution_count": 94,
     "metadata": {},
     "output_type": "execute_result"
    }
   ],
   "source": [
    "#Questão 26 - qual o tamanho de y?\n",
    "y = [1,2,2,3,3,4,4,4]\n",
    "\n",
    "len(y)"
   ]
  },
  {
   "cell_type": "code",
   "execution_count": 95,
   "id": "8b497497-20e6-40fa-be7f-73118ef25137",
   "metadata": {},
   "outputs": [
    {
     "name": "stdout",
     "output_type": "stream",
     "text": [
      "{1, 2, 3, 4}\n"
     ]
    }
   ],
   "source": [
    "#Questão 27 - mude o tipo de y para set\n",
    "\n",
    "y = [1,2,2,3,3,4,4,4]\n",
    "string_set = set(y)\n",
    "print(string_set)"
   ]
  },
  {
   "cell_type": "code",
   "execution_count": 98,
   "id": "b6da0aa4-e662-4dc2-873e-f9a786f33350",
   "metadata": {},
   "outputs": [
    {
     "data": {
      "text/plain": [
       "4"
      ]
     },
     "execution_count": 98,
     "metadata": {},
     "output_type": "execute_result"
    }
   ],
   "source": [
    "#Questão 28 - qual o tamanho de y agora, após mudar a string?\n",
    "\n",
    "y = [1,2,2,3,3,4,4,4]\n",
    "string_set = set(y)\n",
    "\n",
    "len(string_set)"
   ]
  }
 ],
 "metadata": {
  "kernelspec": {
   "display_name": "Python 3 (ipykernel)",
   "language": "python",
   "name": "python3"
  },
  "language_info": {
   "codemirror_mode": {
    "name": "ipython",
    "version": 3
   },
   "file_extension": ".py",
   "mimetype": "text/x-python",
   "name": "python",
   "nbconvert_exporter": "python",
   "pygments_lexer": "ipython3",
   "version": "3.12.9"
  }
 },
 "nbformat": 4,
 "nbformat_minor": 5
}
