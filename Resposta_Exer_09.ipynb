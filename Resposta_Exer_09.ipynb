{
 "cells": [
  {
   "cell_type": "code",
   "execution_count": 3,
   "id": "93efc207-19a1-4721-8b02-429e15c66a25",
   "metadata": {},
   "outputs": [],
   "source": [
    "#pandas\n",
    "# bibliotecas\n",
    "import pandas as pd             # objetos DataFrame e Series \n",
    "import numpy as np              # objetos arrays e matrizes"
   ]
  },
  {
   "cell_type": "code",
   "execution_count": 9,
   "id": "cb2aedb8-8288-44bf-b4cb-531264581b46",
   "metadata": {},
   "outputs": [],
   "source": [
    "df = pd.read_csv('C:/Users/rafae/OneDrive/Área de Trabalho/Eletiva de Dados/Atividades/Exercício09/train_titanic.csv')"
   ]
  },
  {
   "cell_type": "code",
   "execution_count": 11,
   "id": "e230e7ed-b086-44ab-90bc-5af394470f08",
   "metadata": {},
   "outputs": [
    {
     "data": {
      "text/html": [
       "<div>\n",
       "<style scoped>\n",
       "    .dataframe tbody tr th:only-of-type {\n",
       "        vertical-align: middle;\n",
       "    }\n",
       "\n",
       "    .dataframe tbody tr th {\n",
       "        vertical-align: top;\n",
       "    }\n",
       "\n",
       "    .dataframe thead th {\n",
       "        text-align: right;\n",
       "    }\n",
       "</style>\n",
       "<table border=\"1\" class=\"dataframe\">\n",
       "  <thead>\n",
       "    <tr style=\"text-align: right;\">\n",
       "      <th></th>\n",
       "      <th>PassengerId</th>\n",
       "      <th>Survived</th>\n",
       "      <th>Pclass</th>\n",
       "      <th>Name</th>\n",
       "      <th>Sex</th>\n",
       "      <th>Age</th>\n",
       "      <th>SibSp</th>\n",
       "      <th>Parch</th>\n",
       "      <th>Ticket</th>\n",
       "      <th>Fare</th>\n",
       "      <th>Cabin</th>\n",
       "      <th>Embarked</th>\n",
       "    </tr>\n",
       "  </thead>\n",
       "  <tbody>\n",
       "    <tr>\n",
       "      <th>0</th>\n",
       "      <td>1</td>\n",
       "      <td>0</td>\n",
       "      <td>3</td>\n",
       "      <td>Braund, Mr. Owen Harris</td>\n",
       "      <td>male</td>\n",
       "      <td>22.0</td>\n",
       "      <td>1</td>\n",
       "      <td>0</td>\n",
       "      <td>A/5 21171</td>\n",
       "      <td>7.2500</td>\n",
       "      <td>NaN</td>\n",
       "      <td>S</td>\n",
       "    </tr>\n",
       "    <tr>\n",
       "      <th>1</th>\n",
       "      <td>2</td>\n",
       "      <td>1</td>\n",
       "      <td>1</td>\n",
       "      <td>Cumings, Mrs. John Bradley (Florence Briggs Th...</td>\n",
       "      <td>female</td>\n",
       "      <td>38.0</td>\n",
       "      <td>1</td>\n",
       "      <td>0</td>\n",
       "      <td>PC 17599</td>\n",
       "      <td>71.2833</td>\n",
       "      <td>C85</td>\n",
       "      <td>C</td>\n",
       "    </tr>\n",
       "    <tr>\n",
       "      <th>2</th>\n",
       "      <td>3</td>\n",
       "      <td>1</td>\n",
       "      <td>3</td>\n",
       "      <td>Heikkinen, Miss. Laina</td>\n",
       "      <td>female</td>\n",
       "      <td>26.0</td>\n",
       "      <td>0</td>\n",
       "      <td>0</td>\n",
       "      <td>STON/O2. 3101282</td>\n",
       "      <td>7.9250</td>\n",
       "      <td>NaN</td>\n",
       "      <td>S</td>\n",
       "    </tr>\n",
       "  </tbody>\n",
       "</table>\n",
       "</div>"
      ],
      "text/plain": [
       "   PassengerId  Survived  Pclass  \\\n",
       "0            1         0       3   \n",
       "1            2         1       1   \n",
       "2            3         1       3   \n",
       "\n",
       "                                                Name     Sex   Age  SibSp  \\\n",
       "0                            Braund, Mr. Owen Harris    male  22.0      1   \n",
       "1  Cumings, Mrs. John Bradley (Florence Briggs Th...  female  38.0      1   \n",
       "2                             Heikkinen, Miss. Laina  female  26.0      0   \n",
       "\n",
       "   Parch            Ticket     Fare Cabin Embarked  \n",
       "0      0         A/5 21171   7.2500   NaN        S  \n",
       "1      0          PC 17599  71.2833   C85        C  \n",
       "2      0  STON/O2. 3101282   7.9250   NaN        S  "
      ]
     },
     "execution_count": 11,
     "metadata": {},
     "output_type": "execute_result"
    }
   ],
   "source": [
    "# 3 primeiras linhas\n",
    "df.head(3)"
   ]
  },
  {
   "cell_type": "code",
   "execution_count": 13,
   "id": "73bdd15a-51bf-4987-a807-d4aec5548af6",
   "metadata": {},
   "outputs": [
    {
     "name": "stdout",
     "output_type": "stream",
     "text": [
      "38.38% sobreviventes\n"
     ]
    }
   ],
   "source": [
    "#Qual a porcentagem de passageiros sobreviveram ao titanic?\n",
    "\n",
    "# Número de sobreviventes\n",
    "sobreviventes = df['Survived'].sum()\n",
    "\n",
    "# Numero de passageiros\n",
    "total_passageiros = len(df)\n",
    "\n",
    "percentual_sobreviventes = (sobreviventes / total_passageiros) * 100\n",
    "\n",
    "print(f\"{percentual_sobreviventes:.2f}% sobreviventes\")"
   ]
  },
  {
   "cell_type": "code",
   "execution_count": 15,
   "id": "a8451203-6440-444d-a060-41bd3ac8720e",
   "metadata": {},
   "outputs": [
    {
     "name": "stdout",
     "output_type": "stream",
     "text": [
      "55.11% são da 3º classe\n"
     ]
    }
   ],
   "source": [
    "#Qual a porcentagem de passageiros que viajaram de terceira classe?\n",
    "\n",
    "# Filtrando passageiros pela 3º classe\n",
    "terceira_classe = df[df['Pclass'] == 3]\n",
    "\n",
    "# contando os numeros de passageiros\n",
    "num_terceira_classe = len(terceira_classe)\n",
    "\n",
    "# Total de passageiros\n",
    "total_passageiros = len(df)\n",
    "\n",
    "percentual_3_classe = (num_terceira_classe / total_passageiros) * 100\n",
    "\n",
    "print(f\"{percentual_3_classe:.2f}% são da 3º classe\")"
   ]
  },
  {
   "cell_type": "code",
   "execution_count": 17,
   "id": "13c28152-212d-4606-b54e-b2aa2efeef34",
   "metadata": {},
   "outputs": [
    {
     "name": "stdout",
     "output_type": "stream",
     "text": [
      "A média da idade é 29.70 anos e a mediana é 28.00 anos.\n"
     ]
    }
   ],
   "source": [
    "#Quais as idades médias e medianas dos passageiros?\n",
    "\n",
    "# Média\n",
    "IdadeMedia = df['Age'].mean() \n",
    "# Mediana\n",
    "IdadeMediana = df['Age'].median() \n",
    "\n",
    "print(f\"A média da idade é {IdadeMedia:.2f} anos e a mediana é {IdadeMediana:.2f} anos.\")"
   ]
  },
  {
   "cell_type": "code",
   "execution_count": 19,
   "id": "30461063-8afd-4e41-b6ec-087c1a28620a",
   "metadata": {},
   "outputs": [
    {
     "name": "stdout",
     "output_type": "stream",
     "text": [
      "A mádia dos valores das passagens é 32.20 reais e a mediana é 14.45 reais\n"
     ]
    }
   ],
   "source": [
    "#Quais valores das tarifas médias e medianas foram pagos pelos passageiros?\n",
    "\n",
    "#Média\n",
    "ValorMedio = df['Fare'].mean() \n",
    "#Mediana\n",
    "ValorMediano = df['Fare'].median() \n",
    "\n",
    "print(f\"A mádia dos valores das passagens é {ValorMedio:.2f} reais e a mediana é {ValorMediano:.2f} reais\")"
   ]
  },
  {
   "cell_type": "code",
   "execution_count": 23,
   "id": "881c37c6-76fe-4925-b086-ac08e245c716",
   "metadata": {},
   "outputs": [
    {
     "name": "stdout",
     "output_type": "stream",
     "text": [
      "Cabin\n",
      "B96 B98        4\n",
      "G6             4\n",
      "C23 C25 C27    4\n",
      "C22 C26        3\n",
      "F33            3\n",
      "              ..\n",
      "E34            1\n",
      "C7             1\n",
      "C54            1\n",
      "E36            1\n",
      "C148           1\n",
      "Name: count, Length: 147, dtype: int64\n"
     ]
    }
   ],
   "source": [
    "#Quais cabines mais frequentes nos dados e qual a frequência?\n",
    "\n",
    "Cabines= df['Cabin'].value_counts()\n",
    "print(Cabines)"
   ]
  },
  {
   "cell_type": "code",
   "execution_count": 25,
   "id": "1b249cee-8537-49e5-b2c9-b2c0eaaeb35e",
   "metadata": {},
   "outputs": [
    {
     "name": "stdout",
     "output_type": "stream",
     "text": [
      "687\n"
     ]
    }
   ],
   "source": [
    "#Quantos valores estão faltantes na coluna Cabin?\n",
    "\n",
    "Cabin_em_branco = df['Cabin'].isna().sum()\n",
    "print(Cabin_em_branco)"
   ]
  },
  {
   "cell_type": "code",
   "execution_count": 27,
   "id": "aabe3af0-d06c-49a8-a4fe-33e13696ae93",
   "metadata": {},
   "outputs": [
    {
     "name": "stdout",
     "output_type": "stream",
     "text": [
      "Sex\n",
      "female    233\n",
      "male      109\n",
      "Name: count, dtype: int64\n"
     ]
    }
   ],
   "source": [
    "#Sobreviveram mais mulheres ou homens?\n",
    "\n",
    "# Agrupar os sobreviventes por sexo\n",
    "sobreviventes = df[df['Survived'] == 1]['Sex'].value_counts()\n",
    "print(sobreviventes)"
   ]
  },
  {
   "cell_type": "code",
   "execution_count": 29,
   "id": "e2546af1-3db2-440e-9089-a6a2d9a494f6",
   "metadata": {},
   "outputs": [
    {
     "name": "stdout",
     "output_type": "stream",
     "text": [
      "Pclass\n",
      "1    39.766082\n",
      "3    34.795322\n",
      "2    25.438596\n",
      "Name: proportion, dtype: float64\n"
     ]
    }
   ],
   "source": [
    "#Quais as porcentagens de sobreviventes em cada classe?\n",
    "\n",
    "#Agupar Classe dos sobreviventes e suas porcentagens\n",
    "Sobreviventes = df[df['Survived'] == 1]['Pclass'].value_counts(normalize=True)*100\n",
    "print(Sobreviventes)"
   ]
  },
  {
   "cell_type": "code",
   "execution_count": 33,
   "id": "58ac1f4e-1f67-4227-8f3d-50759596bd7c",
   "metadata": {},
   "outputs": [
    {
     "name": "stdout",
     "output_type": "stream",
     "text": [
      "Title\n",
      "Mr              517\n",
      "Miss            182\n",
      "Mrs             125\n",
      "Master           40\n",
      "Dr                7\n",
      "Rev               6\n",
      "Mlle              2\n",
      "Major             2\n",
      "Col               2\n",
      "the Countess      1\n",
      "Capt              1\n",
      "Ms                1\n",
      "Sir               1\n",
      "Lady              1\n",
      "Mme               1\n",
      "Don               1\n",
      "Jonkheer          1\n",
      "Name: count, dtype: int64\n",
      "\n",
      "O título mais frequente é 'Mr' com 517 ocorrências.\n"
     ]
    }
   ],
   "source": [
    "#Os nomes vem com os títulos. Qual é o título mais frequente e qual a frequência?\n",
    "\n",
    "# Extrair os títulos\n",
    "df['Title'] = df['Name'].str.extract(r',\\s*([^\\.]+)\\.')\n",
    "\n",
    "# Quantidade de cada titulo\n",
    "frequencia = df['Title'].value_counts()\n",
    "print(frequencia)\n",
    "\n",
    "# Mostrar o título mais comum\n",
    "titulo_mais_comum = frequencia.idxmax()\n",
    "frequencia_mais_comum = frequencia.max()\n",
    "\n",
    "print(f\"\\nO título mais frequente é '{titulo_mais_comum}' com {frequencia_mais_comum} ocorrências.\")"
   ]
  },
  {
   "cell_type": "code",
   "execution_count": 39,
   "id": "e0fd14ca-fed5-4e32-888e-d47c2d0eff28",
   "metadata": {},
   "outputs": [
    {
     "name": "stdout",
     "output_type": "stream",
     "text": [
      "57.35%\n"
     ]
    }
   ],
   "source": [
    "#Qual a taxa de sobreviventes considerando apenas menores de 12 anos?\n",
    "\n",
    "# Filtrar \n",
    "menores_12 = df[df['Age'] < 12]\n",
    "\n",
    "# Quantidade de sobreviventes\n",
    "sobreviveram_menores_12 = menores_12['Survived'].sum()\n",
    "\n",
    "# Total de menores de 12 anos\n",
    "total_menores_12 = len(menores_12)\n",
    "\n",
    "taxa_sobrevivencia = (sobreviveram_menores_12 / total_menores_12) * 100\n",
    "\n",
    "print(f\"{taxa_sobrevivencia:.2f}%\")"
   ]
  },
  {
   "cell_type": "code",
   "execution_count": 43,
   "id": "0b8e6f13-5fdc-4e2d-a621-3a83aba146bc",
   "metadata": {},
   "outputs": [
    {
     "name": "stdout",
     "output_type": "stream",
     "text": [
      "Deck\n",
      "C    25.74\n",
      "B    25.74\n",
      "D    18.38\n",
      "E    17.65\n",
      "F     5.88\n",
      "A     5.15\n",
      "G     1.47\n",
      "Name: proportion, dtype: float64\n"
     ]
    },
    {
     "name": "stderr",
     "output_type": "stream",
     "text": [
      "C:\\Users\\rafae\\AppData\\Local\\Temp\\ipykernel_6572\\2869955731.py:4: SettingWithCopyWarning: \n",
      "A value is trying to be set on a copy of a slice from a DataFrame.\n",
      "Try using .loc[row_indexer,col_indexer] = value instead\n",
      "\n",
      "See the caveats in the documentation: https://pandas.pydata.org/pandas-docs/stable/user_guide/indexing.html#returning-a-view-versus-a-copy\n",
      "  df_com_cabine['Deck'] = df_com_cabine['Cabin'].str[0]\n"
     ]
    }
   ],
   "source": [
    "#A primeira letra da cabine representa o deck do barco. Desprezando os dados faltantes, qual porcertagem de sobreviventes por deck?\n",
    "\n",
    "df_com_cabine = df.dropna(subset=['Cabin'])\n",
    "df_com_cabine['Deck'] = df_com_cabine['Cabin'].str[0]\n",
    "sobreviventes = df_com_cabine[df_com_cabine['Survived'] == 1]\n",
    "porcentagem_sobreviventes_por_deck = sobreviventes['Deck'].value_counts(normalize=True) * 100\n",
    "\n",
    "print(porcentagem_sobreviventes_por_deck.round(2))"
   ]
  },
  {
   "cell_type": "code",
   "execution_count": 45,
   "id": "237f481d-2bc9-4552-a385-0760274a58f3",
   "metadata": {},
   "outputs": [
    {
     "name": "stdout",
     "output_type": "stream",
     "text": [
      "29.99%\n"
     ]
    }
   ],
   "source": [
    "#Qual a porcentagem de sobreviventes considerando apenas os decks faltantes?\n",
    "\n",
    "# Filtrar\n",
    "sem_cabine = df[df['Cabin'].isna()]\n",
    "total_sem_cabine = len(sem_cabine)\n",
    "\n",
    "# Número de sobreviventes entre os que não têm cabine\n",
    "sobreviventes_sem_cabine = sem_cabine['Survived'].sum()\n",
    "\n",
    "porcentagem_sobreviventes_sem_cabine = (sobreviventes_sem_cabine / total_sem_cabine) * 100\n",
    "\n",
    "print(f\"{porcentagem_sobreviventes_sem_cabine:.2f}%\")"
   ]
  },
  {
   "cell_type": "code",
   "execution_count": 47,
   "id": "5edd1df6-970e-4230-8ac6-4f3354429d6f",
   "metadata": {},
   "outputs": [
    {
     "name": "stdout",
     "output_type": "stream",
     "text": [
      "96.81%\n"
     ]
    }
   ],
   "source": [
    "#Qual porcentagem de mulheres da primeira classe sobreviveram?\n",
    "\n",
    "\n",
    "mulheres_primeira_classe = df[(df['Sex'] == 'female') & (df['Pclass'] == 1)]\n",
    "total_mulheres_primeira = len(mulheres_primeira_classe)\n",
    "sobreviventes_mulheres_primeira = mulheres_primeira_classe['Survived'].sum()\n",
    "porcentagem_sobrevivencia = (sobreviventes_mulheres_primeira / total_mulheres_primeira) * 100\n",
    "\n",
    "print(f\"{porcentagem_sobrevivencia:.2f}%\")"
   ]
  },
  {
   "cell_type": "code",
   "execution_count": 49,
   "id": "c938a940-bb82-4218-bf44-0ff599da9a43",
   "metadata": {},
   "outputs": [
    {
     "name": "stdout",
     "output_type": "stream",
     "text": [
      "Frequência de embarque por portão (1ª classe):\n",
      "Embarked\n",
      "S    127\n",
      "C     85\n",
      "Q      2\n",
      "Name: count, dtype: int64\n",
      "\n",
      "O portão mais comum de embarque na 1ª classe foi 'S' com 127 passageiros.\n"
     ]
    }
   ],
   "source": [
    "#Por qual portão os passageiros da primeira classe mais embarcaram?\n",
    "\n",
    "primeira_classe = df[df['Pclass'] == 1]\n",
    "embarques_por_portao = primeira_classe['Embarked'].value_counts()\n",
    "print(\"Frequência de embarque por portão (1ª classe):\")\n",
    "print(embarques_por_portao)\n",
    "portao_mais_comum = embarques_por_portao.idxmax()\n",
    "qtd_mais_comum = embarques_por_portao.max()\n",
    "\n",
    "print(f\"\\nO portão mais comum de embarque na 1ª classe foi '{portao_mais_comum}' com {qtd_mais_comum} passageiros.\")"
   ]
  },
  {
   "cell_type": "code",
   "execution_count": 51,
   "id": "ac8202ca-9dbf-4c73-adc1-a32dc141f1ae",
   "metadata": {},
   "outputs": [
    {
     "name": "stdout",
     "output_type": "stream",
     "text": [
      "A idade média das mulheres sobreviventes é 28.85 anos.\n",
      "A idade média das mulheres não sobreviventes é 25.05 anos.\n"
     ]
    }
   ],
   "source": [
    "#Qual a idade média entre as mulheres sobreviventes? E entre as mulheres não sobreviventes?\n",
    "\n",
    "# Mulheres sobreviventes\n",
    "mulheres_sobreviventes = df[(df['Sex'] == 'female') & (df['Survived'] == 1)]\n",
    "idade_media_sobreviventes = mulheres_sobreviventes['Age'].mean()\n",
    "\n",
    "# Mulheres não sobreviventes\n",
    "mulheres_nao_sobreviventes = df[(df['Sex'] == 'female') & (df['Survived'] == 0)]\n",
    "idade_media_nao_sobreviventes = mulheres_nao_sobreviventes['Age'].mean()\n",
    "\n",
    "print(f\"A idade média das mulheres sobreviventes é {idade_media_sobreviventes:.2f} anos.\")\n",
    "print(f\"A idade média das mulheres não sobreviventes é {idade_media_nao_sobreviventes:.2f} anos.\")"
   ]
  },
  {
   "cell_type": "code",
   "execution_count": 53,
   "id": "d444e9a6-9efe-4acc-bebe-0a86cc584aae",
   "metadata": {},
   "outputs": [
    {
     "name": "stdout",
     "output_type": "stream",
     "text": [
      "A idade mediana dos homens da 1ª classe que sobreviveram é 36.00 anos.\n",
      "A idade mediana dos homens da 1ª classe que não sobreviveram é 45.50 anos.\n"
     ]
    }
   ],
   "source": [
    "#Qual a idade mediana entre os homens da primeira classe que não sobreviveram?\n",
    "\n",
    "# Homens da 1ª classe que sobreviveram\n",
    "homens_1classe_sobreviventes = df[(df['Sex'] == 'male') & (df['Pclass'] == 1) & (df['Survived'] == 1)]\n",
    "idade_mediana_sobreviventes = homens_1classe_sobreviventes['Age'].median()\n",
    "\n",
    "# Homens da 1ª classe que não sobreviveram\n",
    "homens_1classe_nao_sobreviventes = df[(df['Sex'] == 'male') & (df['Pclass'] == 1) & (df['Survived'] == 0)]\n",
    "idade_mediana_nao_sobreviventes = homens_1classe_nao_sobreviventes['Age'].median()\n",
    "\n",
    "print(f\"A idade mediana dos homens da 1ª classe que sobreviveram é {idade_mediana_sobreviventes:.2f} anos.\")\n",
    "print(f\"A idade mediana dos homens da 1ª classe que não sobreviveram é {idade_mediana_nao_sobreviventes:.2f} anos.\")"
   ]
  },
  {
   "cell_type": "code",
   "execution_count": 55,
   "id": "de25f91a-fcb8-460e-a863-56b2e7d980c5",
   "metadata": {},
   "outputs": [
    {
     "name": "stdout",
     "output_type": "stream",
     "text": [
      "Distribuição de decks (não sobreviventes):\n",
      " Cabin\n",
      "C    35.294118\n",
      "B    17.647059\n",
      "E    11.764706\n",
      "A    11.764706\n",
      "D    11.764706\n",
      "F     7.352941\n",
      "G     2.941176\n",
      "T     1.470588\n",
      "Name: proportion, dtype: float64\n",
      "\n",
      "Distribuição de gêneros (não sobreviventes):\n",
      " Sex\n",
      "male      85.245902\n",
      "female    14.754098\n",
      "Name: proportion, dtype: float64\n",
      "\n",
      "Distribuição de embarques (não sobreviventes):\n",
      " Embarked\n",
      "S    77.777778\n",
      "C    13.661202\n",
      "Q     8.561020\n",
      "Name: proportion, dtype: float64\n"
     ]
    }
   ],
   "source": [
    "#Considerando as possíveis ternas (deck, local de embarque, sexo), qual terna teve maior porcentagem de não sobreviventes?\n",
    "\n",
    "nao_sobreviventes = df[df['Survived'] == 0]\n",
    "cabine = nao_sobreviventes['Cabin'].dropna().map(lambda x: str(x)[0]).value_counts(normalize=True) * 100\n",
    "genero = nao_sobreviventes['Sex'].value_counts(normalize=True) * 100\n",
    "embarque = nao_sobreviventes['Embarked'].dropna().value_counts(normalize=True) * 100\n",
    "\n",
    "print(\"Distribuição de decks (não sobreviventes):\\n\", cabine)\n",
    "print(\"\\nDistribuição de gêneros (não sobreviventes):\\n\", genero)\n",
    "print(\"\\nDistribuição de embarques (não sobreviventes):\\n\", embarque)"
   ]
  },
  {
   "cell_type": "code",
   "execution_count": null,
   "id": "2e35355c-7029-489e-844b-40a503b5220a",
   "metadata": {},
   "outputs": [],
   "source": []
  }
 ],
 "metadata": {
  "kernelspec": {
   "display_name": "Python [conda env:base] *",
   "language": "python",
   "name": "conda-base-py"
  },
  "language_info": {
   "codemirror_mode": {
    "name": "ipython",
    "version": 3
   },
   "file_extension": ".py",
   "mimetype": "text/x-python",
   "name": "python",
   "nbconvert_exporter": "python",
   "pygments_lexer": "ipython3",
   "version": "3.12.7"
  }
 },
 "nbformat": 4,
 "nbformat_minor": 5
}
