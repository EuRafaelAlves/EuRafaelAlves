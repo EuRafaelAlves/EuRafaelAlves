{
 "cells": [
  {
   "cell_type": "code",
   "execution_count": 32,
   "id": "bb9747c0-0d73-4c7c-b0f5-899da5574204",
   "metadata": {},
   "outputs": [
    {
     "name": "stdout",
     "output_type": "stream",
     "text": [
      "Receita Total do mês: R$ 13500\n"
     ]
    }
   ],
   "source": [
    "#Exercício 1: Cálculo de Receita Total\n",
    "#Contexto: Uma empresa vende três produtos: A, B e C. Os preços unitários são R$50, R$30 e R$ 20, respectivamente. \n",
    "#Em um determinado mês, foram vendidas 100 unidades do produto A, 150 do B e 200 do C\n",
    "\n",
    "#Tarefa: Crie variáveis para os preços e quantidades vendidas de cada produto. Em seguida, calcule e imprima a receita total do mês.\n",
    "\n",
    "#RESPOSTA\n",
    "\n",
    "# Produtos e seus valores\n",
    "A = 50\n",
    "B = 30\n",
    "C = 20\n",
    "\n",
    "# Quantidade vendida\n",
    "Quant_A = 100\n",
    "Quant_B = 150\n",
    "Quant_C = 200\n",
    "\n",
    "# Cálculo da receita total\n",
    "Receita_Total = A * Quant_A + B * Quant_B + C * Quant_C\n",
    "\n",
    "#Imprimir valor\n",
    "print(\"Receita Total do mês: R$\", Receita_Total)"
   ]
  },
  {
   "cell_type": "code",
   "execution_count": 40,
   "id": "99498c8b-7ce1-4276-b783-ef90be58da5b",
   "metadata": {},
   "outputs": [
    {
     "name": "stdout",
     "output_type": "stream",
     "text": [
      "Valor em dólares: US$ 952.38\n"
     ]
    }
   ],
   "source": [
    "#Exercício 2: Conversão de Moeda\n",
    "\n",
    "#Contexto: Você recebeu uma quantia de R$ 5000 e deseja converter-la para US$.\n",
    "# Suponha que a taxa de câmbia atual seja de R$ 5,25 por dólar.\n",
    "\n",
    "#Tarefa: Crie variáveis para representar o valor em reais e a taxa de câmbio. \n",
    "#Calcule e imprima o valor equivalente em dólares, arredondado para duas casas decimais.\n",
    "\n",
    "#RESPOSTA\n",
    "\n",
    "#Variaveis\n",
    "Valor_reais = 5000\n",
    "Taxa_cambio = 5.25 #Padrão americado\n",
    "\n",
    "#Calculo da taxa\n",
    "Valor_em_dolar = Valor_reais / Taxa_cambio\n",
    "\n",
    "# Imprimir valor arredondado\n",
    "print(f\"Valor em dólares: US$ {Valor_em_dolar:.2f}\") \n",
    "\n",
    "#Se só o executa-se o print o valor também ia aparecer aredondado para caura da função round, \n",
    "# porém teria que colocar um nome de uma variável para essa função\n",
    "#Exemplo:\n",
    "# c = round(Valor_em_dolar, 2)\n",
    "#    print(c)"
   ]
  },
  {
   "cell_type": "code",
   "execution_count": 19,
   "id": "2c16a877-887b-48e7-8fc8-ab94c7e15228",
   "metadata": {},
   "outputs": [
    {
     "name": "stdout",
     "output_type": "stream",
     "text": [
      "Crescimento: 25.00%\n"
     ]
    }
   ],
   "source": [
    "#Exercício 3: Análise de Crescimento de Vendas\n",
    "\n",
    "#Contexto: As vendas de uma empresa foram de R$120.000,00 em janeiro e R$150.000,00 em fevereiro.\n",
    "\n",
    "#Tarefa: Crie variáveis para as vendas de janeiro e fevereiro. \n",
    "#Calcule e imprima o crescimento percentual das vendas de janeiro para fevereiro, arredondado para duas casas decimais.\n",
    "\n",
    "#RESPOSTA\n",
    "\n",
    "#Variáveis de Vendas\n",
    "Jan = 120000\n",
    "Fev = 150000\n",
    "\n",
    "#Cálculo do Crescimento Percentual\n",
    "Percentual_crescimento = ((Fev - Jan)/ Jan) * 100\n",
    "\n",
    "#Imprimir Valor\n",
    "print(f\"Crescimento: {Percentual_crescimento:.2f}%\")"
   ]
  },
  {
   "cell_type": "code",
   "execution_count": 26,
   "id": "53401be4-04e9-4913-8ef3-b7119ebde5a0",
   "metadata": {},
   "outputs": [
    {
     "name": "stdout",
     "output_type": "stream",
     "text": [
      "Lucro Bruto: R$80000.00\n",
      "Margem de Lucro Bruto: 40.00%\n"
     ]
    }
   ],
   "source": [
    "#Exercício 4: Cálculo de Lucro Bruto\n",
    "\n",
    "#Contexto: Uma empresa teve uma receita de R$200.000,00 e custos de R$120.000,00 em um trimestre.\n",
    "\n",
    "#Tarefa: Crie variáveis para a receita e os custos. \n",
    "#Calcule e imprima o lucro bruto e a margem de lucro bruto (em porcentagem), arredondada para duas casas decimais.\n",
    "\n",
    "#RESPOSTA\n",
    "\n",
    "#Variáveis de custo\n",
    "Receita_1T = 200000\n",
    "Custos_1T = 120000\n",
    "\n",
    "#Cálculo do Lucro Bruto\n",
    "Lucro_bruto = Receita_1T - Custos_1T\n",
    "margem_lucro_bruto = ((Receita_1T - Custos_1T) / Receita_1T) * 100\n",
    "\n",
    "#Imprimir Valores\n",
    "print(f\"Lucro Bruto: R${Lucro_bruto:.2f}\" )\n",
    "print(f\"Margem de Lucro Bruto: {margem_lucro_bruto:.2f}%\")"
   ]
  },
  {
   "cell_type": "code",
   "execution_count": 41,
   "id": "cff54e43-2330-4a0f-a1a9-35f80b72eb1e",
   "metadata": {},
   "outputs": [
    {
     "name": "stdout",
     "output_type": "stream",
     "text": [
      "A média de Satistação é: 8.0\n"
     ]
    }
   ],
   "source": [
    "#Exercício 5: Média de Satisfação do Cliente\n",
    "\n",
    "#Contexto: Uma pesquisa de satisfação do cliente resultou nas seguintes notas: 8, 9, 7, 10, 6.\n",
    "\n",
    "#Tarefa: Armazene as notas em variáveis ou em uma estrutura de dados apropriada. \n",
    "#Calcule e imprima a média de satisfação dos clientes, arredondada para uma casa decimal.\n",
    "\n",
    "#RESPOSTA\n",
    "\n",
    "#variável\n",
    "Nota_satisfacao = [8, 9, 7, 10, 6]\n",
    "\n",
    "#Média das notas\n",
    "Media_notas = sum(Nota_satisfacao) / len (Nota_satisfacao)\n",
    "\n",
    "#Imprimindo valor da média\n",
    "print(f\"A média de Satistação é: {Media_notas:.1f}\")"
   ]
  }
 ],
 "metadata": {
  "kernelspec": {
   "display_name": "Python 3 (ipykernel)",
   "language": "python",
   "name": "python3"
  },
  "language_info": {
   "codemirror_mode": {
    "name": "ipython",
    "version": 3
   },
   "file_extension": ".py",
   "mimetype": "text/x-python",
   "name": "python",
   "nbconvert_exporter": "python",
   "pygments_lexer": "ipython3",
   "version": "3.12.9"
  }
 },
 "nbformat": 4,
 "nbformat_minor": 5
}
