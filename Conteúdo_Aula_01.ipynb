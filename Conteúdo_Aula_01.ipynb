{
 "cells": [
  {
   "cell_type": "code",
   "execution_count": 3,
   "id": "79aeab17-49b0-4d74-8261-fed5267b381f",
   "metadata": {},
   "outputs": [
    {
     "name": "stdout",
     "output_type": "stream",
     "text": [
      "Hello, World!\n"
     ]
    }
   ],
   "source": [
    "#Imprimir alguma mensagem no terminal\n",
    "print(\"Hello, World!\")"
   ]
  },
  {
   "cell_type": "code",
   "execution_count": 5,
   "id": "b59b74b3-349a-42ed-a97c-1a25922d35d7",
   "metadata": {},
   "outputs": [
    {
     "data": {
      "text/plain": [
       "13"
      ]
     },
     "execution_count": 5,
     "metadata": {},
     "output_type": "execute_result"
    }
   ],
   "source": [
    "#Imprimir o número de caracteres de um texto ou número (OBS: Aqui consigo imprimir sem a utilização da função print)\n",
    "len(\"Hello, World!\")"
   ]
  },
  {
   "cell_type": "code",
   "execution_count": 7,
   "id": "f75d7be2-8781-414e-afe7-b63fb14fa776",
   "metadata": {},
   "outputs": [
    {
     "name": "stdout",
     "output_type": "stream",
     "text": [
      "13\n"
     ]
    }
   ],
   "source": [
    "print(len(\"Hello, World!\"))"
   ]
  },
  {
   "cell_type": "code",
   "execution_count": 11,
   "id": "87fe482a-e9bc-4b5a-8080-72312bc8220f",
   "metadata": {},
   "outputs": [
    {
     "data": {
      "text/plain": [
       "str"
      ]
     },
     "execution_count": 11,
     "metadata": {},
     "output_type": "execute_result"
    }
   ],
   "source": [
    "#Essa função é para retornar algum tipo de variável seja ela int, string ...\n",
    "type(\"Hello, World!\")"
   ]
  },
  {
   "cell_type": "code",
   "execution_count": null,
   "id": "878a8733-041c-4096-884d-2ffa6bc170b0",
   "metadata": {},
   "outputs": [
    {
     "data": {
      "text/plain": [
       "int"
      ]
     },
     "execution_count": 12,
     "metadata": {},
     "output_type": "execute_result"
    }
   ],
   "source": [
    "type(len(\"Hello, World!\"))"
   ]
  },
  {
   "cell_type": "code",
   "execution_count": 15,
   "id": "51522f52-3200-4a07-bbb0-966b10848523",
   "metadata": {},
   "outputs": [
    {
     "data": {
      "text/plain": [
       "['__add__',\n",
       " '__class__',\n",
       " '__contains__',\n",
       " '__delattr__',\n",
       " '__dir__',\n",
       " '__doc__',\n",
       " '__eq__',\n",
       " '__format__',\n",
       " '__ge__',\n",
       " '__getattribute__',\n",
       " '__getitem__',\n",
       " '__getnewargs__',\n",
       " '__getstate__',\n",
       " '__gt__',\n",
       " '__hash__',\n",
       " '__init__',\n",
       " '__init_subclass__',\n",
       " '__iter__',\n",
       " '__le__',\n",
       " '__len__',\n",
       " '__lt__',\n",
       " '__mod__',\n",
       " '__mul__',\n",
       " '__ne__',\n",
       " '__new__',\n",
       " '__reduce__',\n",
       " '__reduce_ex__',\n",
       " '__repr__',\n",
       " '__rmod__',\n",
       " '__rmul__',\n",
       " '__setattr__',\n",
       " '__sizeof__',\n",
       " '__str__',\n",
       " '__subclasshook__',\n",
       " 'capitalize',\n",
       " 'casefold',\n",
       " 'center',\n",
       " 'count',\n",
       " 'encode',\n",
       " 'endswith',\n",
       " 'expandtabs',\n",
       " 'find',\n",
       " 'format',\n",
       " 'format_map',\n",
       " 'index',\n",
       " 'isalnum',\n",
       " 'isalpha',\n",
       " 'isascii',\n",
       " 'isdecimal',\n",
       " 'isdigit',\n",
       " 'isidentifier',\n",
       " 'islower',\n",
       " 'isnumeric',\n",
       " 'isprintable',\n",
       " 'isspace',\n",
       " 'istitle',\n",
       " 'isupper',\n",
       " 'join',\n",
       " 'ljust',\n",
       " 'lower',\n",
       " 'lstrip',\n",
       " 'maketrans',\n",
       " 'partition',\n",
       " 'removeprefix',\n",
       " 'removesuffix',\n",
       " 'replace',\n",
       " 'rfind',\n",
       " 'rindex',\n",
       " 'rjust',\n",
       " 'rpartition',\n",
       " 'rsplit',\n",
       " 'rstrip',\n",
       " 'split',\n",
       " 'splitlines',\n",
       " 'startswith',\n",
       " 'strip',\n",
       " 'swapcase',\n",
       " 'title',\n",
       " 'translate',\n",
       " 'upper',\n",
       " 'zfill']"
      ]
     },
     "execution_count": 15,
     "metadata": {},
     "output_type": "execute_result"
    }
   ],
   "source": [
    "#listar os atributos e métodos disponíveis de um objeto\n",
    "dir(\"Hello, World!\")"
   ]
  },
  {
   "cell_type": "code",
   "execution_count": 14,
   "id": "d631866e-3acd-4c72-8633-e668f806848b",
   "metadata": {},
   "outputs": [],
   "source": [
    "#1. Métodos especiais "
   ]
  },
  {
   "cell_type": "code",
   "execution_count": 16,
   "id": "02149586-d48e-4f38-8f63-f297129eafae",
   "metadata": {},
   "outputs": [],
   "source": [
    "# Vou aplicar toda a lista oriunda de dir(\"Hello, World!\")"
   ]
  },
  {
   "cell_type": "code",
   "execution_count": 19,
   "id": "05714079-b967-4e37-b3da-af2e27bcfab4",
   "metadata": {},
   "outputs": [
    {
     "name": "stdout",
     "output_type": "stream",
     "text": [
      "Hello World\n"
     ]
    }
   ],
   "source": [
    "s = \"Hello\"\n",
    "\n",
    "print(s.__add__(\" World\"))        # Soma (concatenação) -> \"Hello World\""
   ]
  },
  {
   "cell_type": "code",
   "execution_count": 21,
   "id": "13b1dd40-7eb7-42f4-b899-8996281ee99b",
   "metadata": {},
   "outputs": [
    {
     "name": "stdout",
     "output_type": "stream",
     "text": [
      "<class 'str'>\n"
     ]
    }
   ],
   "source": [
    "s = \"Hello\"\n",
    "print(s.__class__)                # Retorna o tipo do objeto -> <class 'str'>"
   ]
  },
  {
   "cell_type": "code",
   "execution_count": 23,
   "id": "d191a312-33c3-4e00-88fc-06c9cad2c877",
   "metadata": {},
   "outputs": [
    {
     "name": "stdout",
     "output_type": "stream",
     "text": [
      "True\n"
     ]
    }
   ],
   "source": [
    "s = \"Hello\"\n",
    "print(s.__contains__(\"el\"))       # Verifica se contém substring -> True"
   ]
  },
  {
   "cell_type": "code",
   "execution_count": 24,
   "id": "b9069d81-4938-4149-8fc0-04e2d2d8f401",
   "metadata": {},
   "outputs": [
    {
     "name": "stdout",
     "output_type": "stream",
     "text": [
      "<method-wrapper '__delattr__' of str object at 0x000001ED922CCBD0>\n"
     ]
    }
   ],
   "source": [
    "s = \"Hello\"\n",
    "print(s.__delattr__)              # Não aplicável para str (imutável)"
   ]
  },
  {
   "cell_type": "code",
   "execution_count": 26,
   "id": "97bd6eef-a3b3-461d-82c5-cc0fb6f3b1f9",
   "metadata": {},
   "outputs": [
    {
     "name": "stdout",
     "output_type": "stream",
     "text": [
      "['__new__', '__repr__', '__hash__', '__str__', '__lt__', '__le__', '__eq__', '__ne__', '__gt__', '__ge__', '__iter__', '__mod__', '__rmod__', '__len__', '__getitem__', '__add__', '__mul__', '__rmul__', '__contains__', 'encode', 'replace', 'split', 'rsplit', 'join', 'capitalize', 'casefold', 'title', 'center', 'count', 'expandtabs', 'find', 'partition', 'index', 'ljust', 'lower', 'lstrip', 'rfind', 'rindex', 'rjust', 'rstrip', 'rpartition', 'splitlines', 'strip', 'swapcase', 'translate', 'upper', 'startswith', 'endswith', 'removeprefix', 'removesuffix', 'isascii', 'islower', 'isupper', 'istitle', 'isspace', 'isdecimal', 'isdigit', 'isnumeric', 'isalpha', 'isalnum', 'isidentifier', 'isprintable', 'zfill', 'format', 'format_map', '__format__', 'maketrans', '__sizeof__', '__getnewargs__', '__doc__', '__getattribute__', '__setattr__', '__delattr__', '__init__', '__reduce_ex__', '__reduce__', '__getstate__', '__subclasshook__', '__init_subclass__', '__dir__', '__class__']\n"
     ]
    }
   ],
   "source": [
    "s = \"Hello\"\n",
    "print(s.__dir__())                # Lista métodos e atributos disponíveis"
   ]
  },
  {
   "cell_type": "code",
   "execution_count": 27,
   "id": "d55b0d44-3236-4259-9c82-f75aa1439b87",
   "metadata": {},
   "outputs": [
    {
     "name": "stdout",
     "output_type": "stream",
     "text": [
      "str(object='') -> str\n",
      "str(bytes_or_buffer[, encoding[, errors]]) -> str\n",
      "\n",
      "Create a new string object from the given object. If encoding or\n",
      "errors is specified, then the object must expose a data buffer\n",
      "that will be decoded using the given encoding and error handler.\n",
      "Otherwise, returns the result of object.__str__() (if defined)\n",
      "or repr(object).\n",
      "encoding defaults to sys.getdefaultencoding().\n",
      "errors defaults to 'strict'.\n"
     ]
    }
   ],
   "source": [
    "s = \"Hello\"\n",
    "print(s.__doc__)                  # Docstring da classe str"
   ]
  },
  {
   "cell_type": "code",
   "execution_count": 29,
   "id": "10e9ceb4-cc84-4629-b868-5667a1e1595c",
   "metadata": {},
   "outputs": [
    {
     "name": "stdout",
     "output_type": "stream",
     "text": [
      "True\n"
     ]
    }
   ],
   "source": [
    "s = \"Hello\"\n",
    "print(s.__eq__(\"Hello\"))          # Verifica igualdade -> True"
   ]
  },
  {
   "cell_type": "code",
   "execution_count": 33,
   "id": "615b8aa8-d038-40e7-9de6-38e8cad911cc",
   "metadata": {},
   "outputs": [
    {
     "name": "stdout",
     "output_type": "stream",
     "text": [
      "Hello     \n"
     ]
    },
    {
     "data": {
      "text/plain": [
       "10"
      ]
     },
     "execution_count": 33,
     "metadata": {},
     "output_type": "execute_result"
    }
   ],
   "source": [
    "s = \"Hello\"\n",
    "print(s.__format__(\"<10\"))        # Formatação personalizada -> \"Hello     \"\n",
    "len(s.__format__(\"<10\"))          # descrubo a quantidade de caracteres da formatação"
   ]
  },
  {
   "cell_type": "code",
   "execution_count": 34,
   "id": "cb29a061-62a3-461e-8723-a0eeb7a6eeef",
   "metadata": {},
   "outputs": [
    {
     "name": "stdout",
     "output_type": "stream",
     "text": [
      "True\n"
     ]
    }
   ],
   "source": [
    "s = \"Hello\"\n",
    "print(s.__ge__(\"H\"))              # Verifica se s >= \"H\" (ordem lexicográfica) -> True"
   ]
  },
  {
   "cell_type": "code",
   "execution_count": 35,
   "id": "f3248f7f-1fe3-4ce0-87fa-e730a01b9769",
   "metadata": {},
   "outputs": [
    {
     "name": "stdout",
     "output_type": "stream",
     "text": [
      "<built-in method upper of str object at 0x000001ED922CCBD0>\n"
     ]
    }
   ],
   "source": [
    "s = \"Hello\"\n",
    "print(s.__getattribute__(\"upper\"))  # Acessa atributo/método -> retorna função upper\n"
   ]
  },
  {
   "cell_type": "code",
   "execution_count": 42,
   "id": "e71cf5c6-9825-4b9b-a5bb-a8b35eff6c17",
   "metadata": {},
   "outputs": [
    {
     "name": "stdout",
     "output_type": "stream",
     "text": [
      "e\n"
     ]
    }
   ],
   "source": [
    "s = \"Hello\"\n",
    "print(s.__getitem__(1))           # Acessa o caractere na posição 1 -> \"e\""
   ]
  },
  {
   "cell_type": "code",
   "execution_count": 43,
   "id": "49b3f5a6-38b3-4b89-b676-6cd05b12bb13",
   "metadata": {},
   "outputs": [
    {
     "name": "stdout",
     "output_type": "stream",
     "text": [
      "('Hello',)\n"
     ]
    }
   ],
   "source": [
    "s = \"Hello\"\n",
    "print(s.__getnewargs__())         # Usado por mecanismos internos como pickle"
   ]
  },
  {
   "cell_type": "code",
   "execution_count": 44,
   "id": "f69fe492-41eb-4ec0-a483-fa27989ba131",
   "metadata": {},
   "outputs": [
    {
     "name": "stdout",
     "output_type": "stream",
     "text": [
      "None\n"
     ]
    }
   ],
   "source": [
    "s = \"Hello\"\n",
    "print(s.__getstate__())           # Usado para serialização (strings retornam None)"
   ]
  },
  {
   "cell_type": "code",
   "execution_count": 45,
   "id": "daead587-ef2a-41c4-9dff-7d4015f1dd72",
   "metadata": {},
   "outputs": [
    {
     "name": "stdout",
     "output_type": "stream",
     "text": [
      "True\n"
     ]
    }
   ],
   "source": [
    "s = \"Hello\"\n",
    "print(s.__gt__(\"A\"))              # Verifica se s > \"A\" -> True"
   ]
  },
  {
   "cell_type": "code",
   "execution_count": 46,
   "id": "4e967bd1-ea29-41ab-b113-8fd537430613",
   "metadata": {},
   "outputs": [
    {
     "name": "stdout",
     "output_type": "stream",
     "text": [
      "-1174122060112698861\n"
     ]
    }
   ],
   "source": [
    "s = \"Hello\"\n",
    "print(s.__hash__())               # Retorna o hash (número) -> usado em dicionários\n"
   ]
  },
  {
   "cell_type": "code",
   "execution_count": 47,
   "id": "6d72f2e2-41c4-4a72-bb4c-1b0a641c95a2",
   "metadata": {},
   "outputs": [
    {
     "name": "stdout",
     "output_type": "stream",
     "text": [
      "None\n"
     ]
    }
   ],
   "source": [
    "s = \"Hello\"\n",
    "print(s.__init_subclass__())      # Usado para herança, não afeta str"
   ]
  },
  {
   "cell_type": "code",
   "execution_count": 49,
   "id": "cab958a3-5360-4cda-aabf-637a78ef1c37",
   "metadata": {},
   "outputs": [
    {
     "name": "stdout",
     "output_type": "stream",
     "text": [
      "['H', 'e', 'l', 'l', 'o']\n"
     ]
    }
   ],
   "source": [
    "s = \"Hello\"\n",
    "print(list(s.__iter__()))         # Torna iterável -> ['H', 'e', 'l', 'l', 'o']"
   ]
  },
  {
   "cell_type": "code",
   "execution_count": 51,
   "id": "3d4bc7dd-9e31-4f8c-ac4a-4c19448e88ef",
   "metadata": {},
   "outputs": [
    {
     "name": "stdout",
     "output_type": "stream",
     "text": [
      "True\n"
     ]
    }
   ],
   "source": [
    "s = \"Hello\"\n",
    "print(s.__le__(\"Z\"))              # Verifica se s <= \"Z\" -> False\n"
   ]
  },
  {
   "cell_type": "code",
   "execution_count": 52,
   "id": "a341223d-182e-475d-9b07-386a8d28cfe2",
   "metadata": {},
   "outputs": [
    {
     "name": "stdout",
     "output_type": "stream",
     "text": [
      "5\n"
     ]
    }
   ],
   "source": [
    "s = \"Hello\"\n",
    "print(s.__len__())                # Retorna o tamanho -> 5\n"
   ]
  },
  {
   "cell_type": "code",
   "execution_count": 53,
   "id": "6ef2c8a1-b425-4475-ae65-219b265bb0ea",
   "metadata": {},
   "outputs": [
    {
     "name": "stdout",
     "output_type": "stream",
     "text": [
      "True\n"
     ]
    }
   ],
   "source": [
    "s = \"Hello\"\n",
    "print(s.__lt__(\"World\"))          # Verifica se s < \"World\" -> True\n"
   ]
  },
  {
   "cell_type": "code",
   "execution_count": 56,
   "id": "5e3ec4bf-fc6a-4ad1-b2d2-bf2f2811b5c3",
   "metadata": {},
   "outputs": [
    {
     "name": "stdout",
     "output_type": "stream",
     "text": [
      "Olá, Rafael! Você tem 5 novas mensagens.\n"
     ]
    }
   ],
   "source": [
    "formato = \"Olá, %s! Você tem %d novas mensagens.\"\n",
    "valores = (\"Rafael\", 5)\n",
    "\n",
    "# Usando o método especial __mod__ diretamente\n",
    "resultado = formato.__mod__(valores)\n",
    "\n",
    "print(resultado)\n"
   ]
  },
  {
   "cell_type": "code",
   "execution_count": 57,
   "id": "f1e9312e-bf05-44d6-87e8-3bcf1dd18679",
   "metadata": {},
   "outputs": [
    {
     "name": "stdout",
     "output_type": "stream",
     "text": [
      "HelloHello\n"
     ]
    }
   ],
   "source": [
    "s = \"Hello\"\n",
    "print(s.__mul__(2))               # Repetição -> \"HelloHello\""
   ]
  },
  {
   "cell_type": "code",
   "execution_count": 58,
   "id": "1d822c01-997a-4be1-8cc4-caf664e80f37",
   "metadata": {},
   "outputs": [
    {
     "name": "stdout",
     "output_type": "stream",
     "text": [
      "True\n"
     ]
    }
   ],
   "source": [
    "s = \"Hello\"\n",
    "print(s.__ne__(\"World\"))          # Verifica desigualdade -> True"
   ]
  },
  {
   "cell_type": "code",
   "execution_count": 59,
   "id": "99970960-b94a-4575-b069-e80637395847",
   "metadata": {},
   "outputs": [
    {
     "name": "stdout",
     "output_type": "stream",
     "text": [
      "Hi\n"
     ]
    }
   ],
   "source": [
    "s = \"Hello\"\n",
    "print(str.__new__(str, \"Hi\"))     # Cria nova string -> \"Hi\""
   ]
  },
  {
   "cell_type": "code",
   "execution_count": 62,
   "id": "972ebdd9-3a03-499f-b60c-0a3b4c6e800c",
   "metadata": {},
   "outputs": [
    {
     "name": "stdout",
     "output_type": "stream",
     "text": [
      "(<function __newobj__ at 0x000001ED8CF83100>, (<class 'str'>, 'Hello'), None, None, None)\n"
     ]
    }
   ],
   "source": [
    "s = \"Hello\"\n",
    "print(s.__reduce_ex__(2))         # Usado por pickle com protocolo\n"
   ]
  },
  {
   "cell_type": "code",
   "execution_count": 63,
   "id": "66c8a39d-7fe5-4503-9cd9-73d30ea79133",
   "metadata": {},
   "outputs": [
    {
     "name": "stdout",
     "output_type": "stream",
     "text": [
      "'Hello'\n"
     ]
    }
   ],
   "source": [
    "s = \"Hello\"\n",
    "print(s.__repr__())               # Retorna representação formal -> \"'Hello'\"\n"
   ]
  },
  {
   "cell_type": "code",
   "execution_count": 68,
   "id": "fb66bac3-a076-49a8-b31b-a6ccd6e3e72d",
   "metadata": {},
   "outputs": [
    {
     "name": "stdout",
     "output_type": "stream",
     "text": [
      "RafaelRafaelRafael\n"
     ]
    }
   ],
   "source": [
    "s = \"Rafael\"\n",
    "print(s.__rmul__(3))              # Repetição (lado direito) -> \"HelloHelloHello\"\n",
    "\n"
   ]
  },
  {
   "cell_type": "code",
   "execution_count": 69,
   "id": "7065c24a-014b-4521-871d-bca6b33725f2",
   "metadata": {},
   "outputs": [
    {
     "name": "stdout",
     "output_type": "stream",
     "text": [
      "46\n"
     ]
    }
   ],
   "source": [
    "s = \"Hello\"\n",
    "print(s.__sizeof__())             # Tamanho em bytes na memória\n"
   ]
  },
  {
   "cell_type": "code",
   "execution_count": 70,
   "id": "b25abb65-868f-4ca9-bfed-2163ed188af2",
   "metadata": {},
   "outputs": [
    {
     "name": "stdout",
     "output_type": "stream",
     "text": [
      "Hello\n"
     ]
    }
   ],
   "source": [
    "s = \"Hello\"\n",
    "print(s.__str__())                # Retorna representação em string -> \"Hello\"\n"
   ]
  },
  {
   "cell_type": "code",
   "execution_count": 71,
   "id": "04766354-b760-4e10-80f9-00fc4845f8b1",
   "metadata": {},
   "outputs": [
    {
     "name": "stdout",
     "output_type": "stream",
     "text": [
      "NotImplemented\n"
     ]
    }
   ],
   "source": [
    "s = \"Hello\"\n",
    "print(str.__subclasshook__(str)) # Verifica compatibilidade de subclasses -> True"
   ]
  },
  {
   "cell_type": "code",
   "execution_count": null,
   "id": "ab30b050-ee73-4c49-8e46-d062099691f0",
   "metadata": {},
   "outputs": [],
   "source": [
    "# 2. Métodos comuns de strings"
   ]
  },
  {
   "cell_type": "code",
   "execution_count": 78,
   "id": "90f16885-5fbc-4e43-b62c-91c4fef714fa",
   "metadata": {},
   "outputs": [
    {
     "name": "stdout",
     "output_type": "stream",
     "text": [
      " hello, world! \n"
     ]
    }
   ],
   "source": [
    "s = \" hello, World! \"\n",
    "print(s.capitalize())             # Primeira letra maiúscula, resto minúsculo"
   ]
  },
  {
   "cell_type": "code",
   "execution_count": 79,
   "id": "9de4c113-05ae-4ac4-b145-b8b8bf1dca6c",
   "metadata": {},
   "outputs": [
    {
     "name": "stdout",
     "output_type": "stream",
     "text": [
      " hello, world! \n"
     ]
    }
   ],
   "source": [
    "s = \" hello, World! \"\n",
    "print(s.casefold())               # Minúsculo agressivo (melhor para comparação)"
   ]
  },
  {
   "cell_type": "code",
   "execution_count": 80,
   "id": "4c684ac6-f282-47bb-a5bb-89b0df27e36f",
   "metadata": {},
   "outputs": [
    {
     "name": "stdout",
     "output_type": "stream",
     "text": [
      "-- hello, World! ---\n"
     ]
    }
   ],
   "source": [
    "s = \" hello, World! \"\n",
    "print(s.center(20, '-'))          # Centraliza texto com preenchimento"
   ]
  },
  {
   "cell_type": "code",
   "execution_count": 81,
   "id": "6a574977-4ae4-4cd1-b0ac-ceef89ae6f35",
   "metadata": {},
   "outputs": [
    {
     "name": "stdout",
     "output_type": "stream",
     "text": [
      "2\n"
     ]
    }
   ],
   "source": [
    "s = \" hello, World! \"\n",
    "print(s.count(\"o\"))               # Conta quantas vezes aparece \"o\""
   ]
  },
  {
   "cell_type": "code",
   "execution_count": 82,
   "id": "4372840e-913e-415f-b1eb-d5b6f115740a",
   "metadata": {},
   "outputs": [
    {
     "name": "stdout",
     "output_type": "stream",
     "text": [
      "b' hello, World! '\n"
     ]
    }
   ],
   "source": [
    "s = \" hello, World! \"\n",
    "print(s.encode())                 # Codifica para bytes (UTF-8)"
   ]
  },
  {
   "cell_type": "code",
   "execution_count": 83,
   "id": "043d6ffb-8630-4906-9c0e-76aade73343a",
   "metadata": {},
   "outputs": [
    {
     "name": "stdout",
     "output_type": "stream",
     "text": [
      "True\n"
     ]
    }
   ],
   "source": [
    "s = \" hello, World! \"\n",
    "print(s.endswith(\"! \"))           # Verifica se termina com \"! \""
   ]
  },
  {
   "cell_type": "code",
   "execution_count": 84,
   "id": "c93a7742-8149-4508-a267-ca28a7aa574a",
   "metadata": {},
   "outputs": [
    {
     "name": "stdout",
     "output_type": "stream",
     "text": [
      "a   b\n"
     ]
    }
   ],
   "source": [
    "\n",
    "print(\"a\\tb\".expandtabs(4))       # Expande tabulação para 4 espaços"
   ]
  },
  {
   "cell_type": "code",
   "execution_count": 85,
   "id": "36fc6161-be73-463c-b404-63c941501707",
   "metadata": {},
   "outputs": [
    {
     "name": "stdout",
     "output_type": "stream",
     "text": [
      "8\n"
     ]
    }
   ],
   "source": [
    "s = \" hello, World! \"\n",
    "print(s.find(\"World\"))            # Retorna índice de \"World\" -> 8"
   ]
  },
  {
   "cell_type": "code",
   "execution_count": 86,
   "id": "4364df99-94a4-4fb1-a4f7-44acbcc1e2c1",
   "metadata": {},
   "outputs": [
    {
     "name": "stdout",
     "output_type": "stream",
     "text": [
      "Name: Alice\n"
     ]
    }
   ],
   "source": [
    "print(\"Name: {}\".format(\"Alice\"))# Substitui {} por valor -> \"Name: Alice\""
   ]
  },
  {
   "cell_type": "code",
   "execution_count": 87,
   "id": "681489d3-3ecb-4eaa-85cb-756047e841db",
   "metadata": {},
   "outputs": [
    {
     "name": "stdout",
     "output_type": "stream",
     "text": [
      "Name: Bob\n"
     ]
    }
   ],
   "source": [
    "print(\"Name: {name}\".format_map({'name': 'Bob'}))  # Substituição com dicionário"
   ]
  },
  {
   "cell_type": "code",
   "execution_count": 88,
   "id": "53520deb-f521-4462-a1e4-92e4c276c3ad",
   "metadata": {},
   "outputs": [
    {
     "name": "stdout",
     "output_type": "stream",
     "text": [
      "8\n"
     ]
    }
   ],
   "source": [
    "s = \" hello, World! \"\n",
    "print(s.index(\"W\"))               # Índice de \"W\" (erro se não encontrar)"
   ]
  },
  {
   "cell_type": "code",
   "execution_count": 89,
   "id": "616c5a1c-9337-4a37-b81b-6437963d6175",
   "metadata": {},
   "outputs": [
    {
     "name": "stdout",
     "output_type": "stream",
     "text": [
      "True\n"
     ]
    }
   ],
   "source": [
    "\n",
    "print(\"abc123\".isalnum())         # True se alfanumérico"
   ]
  },
  {
   "cell_type": "code",
   "execution_count": 90,
   "id": "2f003509-9078-433e-9b75-e32b10ff8253",
   "metadata": {},
   "outputs": [
    {
     "name": "stdout",
     "output_type": "stream",
     "text": [
      "True\n"
     ]
    }
   ],
   "source": [
    "print(\"abc\".isalpha())            # True se apenas letras"
   ]
  },
  {
   "cell_type": "code",
   "execution_count": 91,
   "id": "9c0fb1b0-3945-4b4f-bc7a-98eb9eed3f86",
   "metadata": {},
   "outputs": [
    {
     "name": "stdout",
     "output_type": "stream",
     "text": [
      "True\n"
     ]
    }
   ],
   "source": [
    "print(\"ABC\".isascii())            # True se apenas ASCII"
   ]
  },
  {
   "cell_type": "code",
   "execution_count": 92,
   "id": "b3677764-d04b-4435-854d-75dd46a89fdd",
   "metadata": {},
   "outputs": [
    {
     "name": "stdout",
     "output_type": "stream",
     "text": [
      "True\n"
     ]
    }
   ],
   "source": [
    "print(\"123\".isdecimal())          # True se apenas decimais"
   ]
  },
  {
   "cell_type": "code",
   "execution_count": 93,
   "id": "5315f4c3-78a9-43b3-a840-35efc9940b3b",
   "metadata": {},
   "outputs": [
    {
     "name": "stdout",
     "output_type": "stream",
     "text": [
      "True\n"
     ]
    }
   ],
   "source": [
    "print(\"123\".isdigit())            # True se apenas dígitos"
   ]
  },
  {
   "cell_type": "code",
   "execution_count": 94,
   "id": "b78daa8c-128f-4520-825b-8c46155847c0",
   "metadata": {},
   "outputs": [
    {
     "name": "stdout",
     "output_type": "stream",
     "text": [
      "True\n"
     ]
    }
   ],
   "source": [
    "print(\"var1\".isidentifier())      # True se identificador válido em Python"
   ]
  },
  {
   "cell_type": "code",
   "execution_count": 95,
   "id": "f544a9a9-979a-43ff-b0b5-f1c999313950",
   "metadata": {},
   "outputs": [
    {
     "name": "stdout",
     "output_type": "stream",
     "text": [
      "True\n"
     ]
    }
   ],
   "source": [
    "print(\"abc\".islower())            # True se todas minúsculas"
   ]
  },
  {
   "cell_type": "code",
   "execution_count": 96,
   "id": "1bb3bce0-4098-4b31-a208-4a71166027bd",
   "metadata": {},
   "outputs": [
    {
     "name": "stdout",
     "output_type": "stream",
     "text": [
      "True\n"
     ]
    }
   ],
   "source": [
    "print(\"Ⅷ\".isnumeric())            # True (até números romanos)"
   ]
  },
  {
   "cell_type": "code",
   "execution_count": 97,
   "id": "7952eaa6-107c-4636-b7de-cfac392f69af",
   "metadata": {},
   "outputs": [
    {
     "name": "stdout",
     "output_type": "stream",
     "text": [
      "True\n"
     ]
    }
   ],
   "source": [
    "print(\"Text\".isprintable())       # True se caracteres imprimíveis"
   ]
  },
  {
   "cell_type": "code",
   "execution_count": 98,
   "id": "940969f8-b94b-4870-b4ff-3d33e46ddc31",
   "metadata": {},
   "outputs": [
    {
     "name": "stdout",
     "output_type": "stream",
     "text": [
      "True\n"
     ]
    }
   ],
   "source": [
    "print(\"   \".isspace())            # True se apenas espaços"
   ]
  },
  {
   "cell_type": "code",
   "execution_count": 99,
   "id": "928491c1-4d9c-4fdb-9ff9-0c8edca545b4",
   "metadata": {},
   "outputs": [
    {
     "name": "stdout",
     "output_type": "stream",
     "text": [
      "True\n"
     ]
    }
   ],
   "source": [
    "print(\"Hello World\".istitle())    # True se estilo de título"
   ]
  },
  {
   "cell_type": "code",
   "execution_count": 100,
   "id": "82e9b3a1-3eca-4655-a334-4b14335425c1",
   "metadata": {},
   "outputs": [
    {
     "name": "stdout",
     "output_type": "stream",
     "text": [
      "True\n"
     ]
    }
   ],
   "source": [
    "print(\"HELLO\".isupper())          # True se todas maiúsculas\n"
   ]
  },
  {
   "cell_type": "code",
   "execution_count": 101,
   "id": "43976e06-781f-499a-a03d-b3e1c117f24a",
   "metadata": {},
   "outputs": [
    {
     "name": "stdout",
     "output_type": "stream",
     "text": [
      "a-b-c\n"
     ]
    }
   ],
   "source": [
    "print(\"-\".join([\"a\", \"b\", \"c\"]))  # Une com separador -> \"a-b-c\""
   ]
  },
  {
   "cell_type": "code",
   "execution_count": 102,
   "id": "f30de79c-359e-4e56-8d05-cf27fe504a60",
   "metadata": {},
   "outputs": [
    {
     "name": "stdout",
     "output_type": "stream",
     "text": [
      "abc..\n"
     ]
    }
   ],
   "source": [
    "print(\"abc\".ljust(5, \".\"))        # Alinha à esquerda, preenche com \".\" -> \"abc..\""
   ]
  },
  {
   "cell_type": "code",
   "execution_count": 103,
   "id": "ee0a1e82-bb15-4a83-861d-495be4930756",
   "metadata": {},
   "outputs": [
    {
     "name": "stdout",
     "output_type": "stream",
     "text": [
      "abc\n"
     ]
    }
   ],
   "source": [
    "print(\"ABC\".lower())              # Converte para minúsculas"
   ]
  },
  {
   "cell_type": "code",
   "execution_count": 104,
   "id": "c98df5b1-0de4-4390-9c38-abed8bb92d24",
   "metadata": {},
   "outputs": [
    {
     "name": "stdout",
     "output_type": "stream",
     "text": [
      "text\n"
     ]
    }
   ],
   "source": [
    "print(\"   text\".lstrip())         # Remove espaços à esquerda"
   ]
  },
  {
   "cell_type": "code",
   "execution_count": 106,
   "id": "882c256f-7b9f-48b7-b749-0e86c5579b5b",
   "metadata": {},
   "outputs": [],
   "source": [
    "table = str.maketrans(\"ae\", \"12\") # Cria mapeamento de caracteres"
   ]
  },
  {
   "cell_type": "code",
   "execution_count": 107,
   "id": "27145ae0-edd5-430c-b6e6-e5a2ffb0963f",
   "metadata": {},
   "outputs": [
    {
     "name": "stdout",
     "output_type": "stream",
     "text": [
      "1ppl2\n"
     ]
    }
   ],
   "source": [
    "print(\"apple\".translate(table))   # Substitui \"a\" por \"1\", \"e\" por \"2\" -> \"1ppl2\""
   ]
  },
  {
   "cell_type": "code",
   "execution_count": 108,
   "id": "252f390b-70e3-4eef-ae2c-97d7f049d807",
   "metadata": {},
   "outputs": [
    {
     "name": "stdout",
     "output_type": "stream",
     "text": [
      "('key', '=', 'value')\n"
     ]
    }
   ],
   "source": [
    "print(\"key=value\".partition(\"=\")) # Divide em 3 partes: antes, separador, depois"
   ]
  },
  {
   "cell_type": "code",
   "execution_count": 109,
   "id": "135fa2a6-09ab-4503-9e15-bf5763ee9238",
   "metadata": {},
   "outputs": [
    {
     "name": "stdout",
     "output_type": "stream",
     "text": [
      "happy\n"
     ]
    }
   ],
   "source": [
    "print(\"unhappy\".removeprefix(\"un\")) # Remove \"un\" do início"
   ]
  },
  {
   "cell_type": "code",
   "execution_count": 110,
   "id": "1300aaaa-0ada-4981-9e96-8f864a35f618",
   "metadata": {},
   "outputs": [
    {
     "name": "stdout",
     "output_type": "stream",
     "text": [
      "test\n"
     ]
    }
   ],
   "source": [
    "print(\"test.py\".removesuffix(\".py\"))# Remove \".py\" do final"
   ]
  },
  {
   "cell_type": "code",
   "execution_count": 111,
   "id": "ce34d501-ac8d-4df5-8455-f1d7877f682b",
   "metadata": {},
   "outputs": [
    {
     "name": "stdout",
     "output_type": "stream",
     "text": [
      "bonono\n"
     ]
    }
   ],
   "source": [
    "print(\"banana\".replace(\"a\", \"o\")) # Substitui \"a\" por \"o\""
   ]
  },
  {
   "cell_type": "code",
   "execution_count": 112,
   "id": "b55c0465-eefc-4cb4-8652-27bb2e106aec",
   "metadata": {},
   "outputs": [
    {
     "name": "stdout",
     "output_type": "stream",
     "text": [
      "5\n"
     ]
    }
   ],
   "source": [
    "print(\"banana\".rfind(\"a\"))        # Última posição de \"a\""
   ]
  },
  {
   "cell_type": "code",
   "execution_count": 113,
   "id": "6c9dec39-981e-4d1e-a559-4592423a14a6",
   "metadata": {},
   "outputs": [
    {
     "name": "stdout",
     "output_type": "stream",
     "text": [
      "5\n"
     ]
    }
   ],
   "source": [
    "print(\"banana\".rindex(\"a\"))       # Mesmo que acima, mas erro se não encontrar"
   ]
  },
  {
   "cell_type": "code",
   "execution_count": 114,
   "id": "5b62bbb3-8c82-4159-b1e3-d16ecf08f3cc",
   "metadata": {},
   "outputs": [
    {
     "name": "stdout",
     "output_type": "stream",
     "text": [
      "---abc\n"
     ]
    }
   ],
   "source": [
    "print(\"abc\".rjust(6, \"-\"))        # Alinha à direita, preenche com \"-\""
   ]
  },
  {
   "cell_type": "code",
   "execution_count": 115,
   "id": "029c583e-1fea-4be1-9e3a-8bf45e8b7e40",
   "metadata": {},
   "outputs": [
    {
     "name": "stdout",
     "output_type": "stream",
     "text": [
      "('a=b', '=', 'c')\n"
     ]
    }
   ],
   "source": [
    "print(\"a=b=c\".rpartition(\"=\"))    # Divide da direita para esquerda"
   ]
  },
  {
   "cell_type": "code",
   "execution_count": 116,
   "id": "b117d232-6880-4b72-ba51-c9684046b73b",
   "metadata": {},
   "outputs": [
    {
     "name": "stdout",
     "output_type": "stream",
     "text": [
      "['a,b', 'c']\n"
     ]
    }
   ],
   "source": [
    "print(\"a,b,c\".rsplit(\",\", 1))     # Divide da direita, no máximo 1 vez"
   ]
  },
  {
   "cell_type": "code",
   "execution_count": 117,
   "id": "00e87df2-eccb-4435-a1e0-43d05f4db176",
   "metadata": {},
   "outputs": [
    {
     "name": "stdout",
     "output_type": "stream",
     "text": [
      "  hi\n"
     ]
    }
   ],
   "source": [
    "print(\"  hi  \".rstrip())          # Remove espaços à direita"
   ]
  },
  {
   "cell_type": "code",
   "execution_count": 118,
   "id": "94927422-e5a3-462e-983d-87c3d4d3d25f",
   "metadata": {},
   "outputs": [
    {
     "name": "stdout",
     "output_type": "stream",
     "text": [
      "['a', 'b', 'c']\n"
     ]
    }
   ],
   "source": [
    "print(\"a b c\".split())            # Divide por espaços -> ['a', 'b', 'c']"
   ]
  },
  {
   "cell_type": "code",
   "execution_count": 119,
   "id": "ea03a4ff-5185-4c83-adaa-7116719d2144",
   "metadata": {},
   "outputs": [
    {
     "name": "stdout",
     "output_type": "stream",
     "text": [
      "['a', 'b', 'c']\n"
     ]
    }
   ],
   "source": [
    "print(\"a\\nb\\nc\".splitlines())     # Divide por quebras de linha -> ['a', 'b', 'c']"
   ]
  },
  {
   "cell_type": "code",
   "execution_count": 120,
   "id": "3a496c14-2340-4f79-b8b3-bca480203ba5",
   "metadata": {},
   "outputs": [
    {
     "name": "stdout",
     "output_type": "stream",
     "text": [
      "True\n"
     ]
    }
   ],
   "source": [
    "print(\"data.csv\".startswith(\"data\")) # Verifica início"
   ]
  },
  {
   "cell_type": "code",
   "execution_count": 121,
   "id": "6a79dab8-c5eb-4967-9d6e-f0b797de5aad",
   "metadata": {},
   "outputs": [
    {
     "name": "stdout",
     "output_type": "stream",
     "text": [
      "trim\n"
     ]
    }
   ],
   "source": [
    "print(\"  trim  \".strip())         # Remove espaços dos dois lados"
   ]
  },
  {
   "cell_type": "code",
   "execution_count": 122,
   "id": "d16f8e3d-e18d-4e12-b459-37d4a35cc080",
   "metadata": {},
   "outputs": [
    {
     "name": "stdout",
     "output_type": "stream",
     "text": [
      "pYtHoN\n"
     ]
    }
   ],
   "source": [
    "print(\"PyThOn\".swapcase())        # Inverte maiúsculas/minúsculas"
   ]
  },
  {
   "cell_type": "code",
   "execution_count": 123,
   "id": "675baec5-4072-4e5c-b3bc-ef6299eb7c0a",
   "metadata": {},
   "outputs": [
    {
     "name": "stdout",
     "output_type": "stream",
     "text": [
      "Hello World\n"
     ]
    }
   ],
   "source": [
    "print(\"hello world\".title())      # Estilo título -> \"Hello World\""
   ]
  },
  {
   "cell_type": "code",
   "execution_count": 124,
   "id": "a7192506-7d9c-4ecd-9125-21d4f0101bf3",
   "metadata": {},
   "outputs": [
    {
     "name": "stdout",
     "output_type": "stream",
     "text": [
      "HELLO\n"
     ]
    }
   ],
   "source": [
    "print(\"hello\".upper())            # Tudo maiúsculo"
   ]
  },
  {
   "cell_type": "code",
   "execution_count": 125,
   "id": "ed50b338-1641-4f86-94a5-589b8512ee9c",
   "metadata": {},
   "outputs": [
    {
     "name": "stdout",
     "output_type": "stream",
     "text": [
      "00042\n"
     ]
    }
   ],
   "source": [
    "print(\"42\".zfill(5))              # Preenche com zeros à esquerda -> \"00042\""
   ]
  },
  {
   "cell_type": "code",
   "execution_count": 127,
   "id": "364967d7-47bd-46da-8df7-85073ec88f57",
   "metadata": {},
   "outputs": [
    {
     "name": "stdout",
     "output_type": "stream",
     "text": [
      "Help on built-in function upper:\n",
      "\n",
      "upper() method of builtins.str instance\n",
      "    Return a copy of the string converted to uppercase.\n",
      "\n"
     ]
    }
   ],
   "source": [
    "#Retorna ajuda sobre determinado métodp\n",
    "help(\"Hello, world!\".upper)\n",
    "\n",
    "# resposta: Ajuda sobre a função interna upper: Método upper() da instância builtins.str\n",
    "#Retorna uma cópia da string convertida para letras maiúsculas."
   ]
  },
  {
   "cell_type": "code",
   "execution_count": 128,
   "id": "26d0b6ec-5fe1-4124-88d5-08d914c4d994",
   "metadata": {},
   "outputs": [
    {
     "name": "stdout",
     "output_type": "stream",
     "text": [
      "HELLO, WORLD!\n"
     ]
    }
   ],
   "source": [
    "#usando o métodp upper em uma string\n",
    "\n",
    "print(\"Hello, World!\".upper())"
   ]
  },
  {
   "cell_type": "code",
   "execution_count": 129,
   "id": "013a7661-d97a-4f15-98be-31d93236e352",
   "metadata": {},
   "outputs": [],
   "source": [
    "#Atribuição de valores a variaveis"
   ]
  },
  {
   "cell_type": "code",
   "execution_count": 130,
   "id": "3921706d-8b20-4d0e-8de2-b87673d5bf06",
   "metadata": {},
   "outputs": [
    {
     "name": "stdout",
     "output_type": "stream",
     "text": [
      "Hello, World!\n"
     ]
    }
   ],
   "source": [
    "greettings = \"Hello, World!\"\n",
    "print(greettings)"
   ]
  },
  {
   "cell_type": "code",
   "execution_count": 131,
   "id": "92399977-d5c2-4b71-9d3e-cc6826d636e1",
   "metadata": {},
   "outputs": [
    {
     "data": {
      "text/plain": [
       "str"
      ]
     },
     "execution_count": 131,
     "metadata": {},
     "output_type": "execute_result"
    }
   ],
   "source": [
    "type(greettings)"
   ]
  },
  {
   "cell_type": "code",
   "execution_count": 136,
   "id": "17f4c8eb-4c1b-4bd4-9686-6f40df52ac3f",
   "metadata": {},
   "outputs": [
    {
     "data": {
      "text/plain": [
       "13"
      ]
     },
     "execution_count": 136,
     "metadata": {},
     "output_type": "execute_result"
    }
   ],
   "source": [
    "len(greettings)"
   ]
  },
  {
   "cell_type": "code",
   "execution_count": 137,
   "id": "4e935ce5-3eb1-4f79-bed3-b821c84b4c2e",
   "metadata": {},
   "outputs": [
    {
     "data": {
      "text/plain": [
       "['__add__',\n",
       " '__class__',\n",
       " '__contains__',\n",
       " '__delattr__',\n",
       " '__dir__',\n",
       " '__doc__',\n",
       " '__eq__',\n",
       " '__format__',\n",
       " '__ge__',\n",
       " '__getattribute__',\n",
       " '__getitem__',\n",
       " '__getnewargs__',\n",
       " '__getstate__',\n",
       " '__gt__',\n",
       " '__hash__',\n",
       " '__init__',\n",
       " '__init_subclass__',\n",
       " '__iter__',\n",
       " '__le__',\n",
       " '__len__',\n",
       " '__lt__',\n",
       " '__mod__',\n",
       " '__mul__',\n",
       " '__ne__',\n",
       " '__new__',\n",
       " '__reduce__',\n",
       " '__reduce_ex__',\n",
       " '__repr__',\n",
       " '__rmod__',\n",
       " '__rmul__',\n",
       " '__setattr__',\n",
       " '__sizeof__',\n",
       " '__str__',\n",
       " '__subclasshook__',\n",
       " 'capitalize',\n",
       " 'casefold',\n",
       " 'center',\n",
       " 'count',\n",
       " 'encode',\n",
       " 'endswith',\n",
       " 'expandtabs',\n",
       " 'find',\n",
       " 'format',\n",
       " 'format_map',\n",
       " 'index',\n",
       " 'isalnum',\n",
       " 'isalpha',\n",
       " 'isascii',\n",
       " 'isdecimal',\n",
       " 'isdigit',\n",
       " 'isidentifier',\n",
       " 'islower',\n",
       " 'isnumeric',\n",
       " 'isprintable',\n",
       " 'isspace',\n",
       " 'istitle',\n",
       " 'isupper',\n",
       " 'join',\n",
       " 'ljust',\n",
       " 'lower',\n",
       " 'lstrip',\n",
       " 'maketrans',\n",
       " 'partition',\n",
       " 'removeprefix',\n",
       " 'removesuffix',\n",
       " 'replace',\n",
       " 'rfind',\n",
       " 'rindex',\n",
       " 'rjust',\n",
       " 'rpartition',\n",
       " 'rsplit',\n",
       " 'rstrip',\n",
       " 'split',\n",
       " 'splitlines',\n",
       " 'startswith',\n",
       " 'strip',\n",
       " 'swapcase',\n",
       " 'title',\n",
       " 'translate',\n",
       " 'upper',\n",
       " 'zfill']"
      ]
     },
     "execution_count": 137,
     "metadata": {},
     "output_type": "execute_result"
    }
   ],
   "source": [
    "dir(greettings)"
   ]
  },
  {
   "cell_type": "code",
   "execution_count": 142,
   "id": "789271ec-bb05-49f8-b654-4fb79a58ed2c",
   "metadata": {},
   "outputs": [
    {
     "name": "stdout",
     "output_type": "stream",
     "text": [
      "hello, world!\n"
     ]
    }
   ],
   "source": [
    "c = greettings.upper()\n",
    "print(c.lower())"
   ]
  },
  {
   "cell_type": "code",
   "execution_count": 143,
   "id": "558a840c-c69d-4639-8b27-70c630275129",
   "metadata": {},
   "outputs": [
    {
     "name": "stdout",
     "output_type": "stream",
     "text": [
      "HELLO, WORLD!\n"
     ]
    }
   ],
   "source": [
    "print(greettings.upper())"
   ]
  },
  {
   "cell_type": "code",
   "execution_count": null,
   "id": "4d984fe3-0842-4015-ae82-d725f1d2fae2",
   "metadata": {},
   "outputs": [],
   "source": [
    "# Mudando os tipos de variáveis usando built-in function"
   ]
  },
  {
   "cell_type": "code",
   "execution_count": 144,
   "id": "fc52dfd2-4765-4a57-8cd7-359557d886f2",
   "metadata": {},
   "outputs": [
    {
     "data": {
      "text/plain": [
       "str"
      ]
     },
     "execution_count": 144,
     "metadata": {},
     "output_type": "execute_result"
    }
   ],
   "source": [
    "# convertendo um inteiro para string\n",
    "integer_number = 5\n",
    "word = str(integer_number)\n",
    "type(word)"
   ]
  },
  {
   "cell_type": "code",
   "execution_count": 145,
   "id": "7ba30364-868f-4299-8c40-8d086564e210",
   "metadata": {},
   "outputs": [
    {
     "data": {
      "text/plain": [
       "float"
      ]
     },
     "execution_count": 145,
     "metadata": {},
     "output_type": "execute_result"
    }
   ],
   "source": [
    "# convertendo um inteiro para ponto float\n",
    "integer_number = 5\n",
    "float_number = float(integer_number)\n",
    "type(float_number)"
   ]
  },
  {
   "cell_type": "code",
   "execution_count": 149,
   "id": "6568461d-b23b-4806-96f6-44ccf2f61933",
   "metadata": {},
   "outputs": [
    {
     "data": {
      "text/plain": [
       "int"
      ]
     },
     "execution_count": 149,
     "metadata": {},
     "output_type": "execute_result"
    }
   ],
   "source": [
    "# convertendo uma string para inteiro\n",
    "word = '5'\n",
    "integer_number = int(word)\n",
    "type(integer_number)"
   ]
  },
  {
   "cell_type": "code",
   "execution_count": 150,
   "id": "f6f7dd99-60c9-4888-a1ef-c5c938fdc7f5",
   "metadata": {},
   "outputs": [
    {
     "data": {
      "text/plain": [
       "list"
      ]
     },
     "execution_count": 150,
     "metadata": {},
     "output_type": "execute_result"
    }
   ],
   "source": [
    "# convertendo uma string para lista\n",
    "word = '[1,2,True]'\n",
    "lista = list(word)\n",
    "type(lista)"
   ]
  },
  {
   "cell_type": "code",
   "execution_count": null,
   "id": "0a952c36-0fe0-4f48-a332-9d2552fc4037",
   "metadata": {},
   "outputs": [],
   "source": []
  }
 ],
 "metadata": {
  "kernelspec": {
   "display_name": "Python [conda env:base] *",
   "language": "python",
   "name": "conda-base-py"
  },
  "language_info": {
   "codemirror_mode": {
    "name": "ipython",
    "version": 3
   },
   "file_extension": ".py",
   "mimetype": "text/x-python",
   "name": "python",
   "nbconvert_exporter": "python",
   "pygments_lexer": "ipython3",
   "version": "3.12.7"
  }
 },
 "nbformat": 4,
 "nbformat_minor": 5
}
