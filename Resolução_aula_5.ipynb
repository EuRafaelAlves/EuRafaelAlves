{
 "cells": [
  {
   "cell_type": "code",
   "execution_count": 111,
   "id": "96b67ca7-65e8-4564-bae8-4dadc9472289",
   "metadata": {},
   "outputs": [],
   "source": [
    "# importe a biblioteca random\n",
    "# TODO\n",
    "import random as random"
   ]
  },
  {
   "cell_type": "code",
   "execution_count": 113,
   "id": "afd32191-4ca8-495f-9abd-0ae62a864a23",
   "metadata": {},
   "outputs": [
    {
     "data": {
      "text/plain": [
       "['BPF',\n",
       " 'LOG4',\n",
       " 'NV_MAGICCONST',\n",
       " 'RECIP_BPF',\n",
       " 'Random',\n",
       " 'SG_MAGICCONST',\n",
       " 'SystemRandom',\n",
       " 'TWOPI',\n",
       " '_ONE',\n",
       " '_Sequence',\n",
       " '__all__',\n",
       " '__builtins__',\n",
       " '__cached__',\n",
       " '__doc__',\n",
       " '__file__',\n",
       " '__loader__',\n",
       " '__name__',\n",
       " '__package__',\n",
       " '__spec__',\n",
       " '_accumulate',\n",
       " '_acos',\n",
       " '_bisect',\n",
       " '_ceil',\n",
       " '_cos',\n",
       " '_e',\n",
       " '_exp',\n",
       " '_fabs',\n",
       " '_floor',\n",
       " '_index',\n",
       " '_inst',\n",
       " '_isfinite',\n",
       " '_lgamma',\n",
       " '_log',\n",
       " '_log2',\n",
       " '_os',\n",
       " '_pi',\n",
       " '_random',\n",
       " '_repeat',\n",
       " '_sha512',\n",
       " '_sin',\n",
       " '_sqrt',\n",
       " '_test',\n",
       " '_test_generator',\n",
       " '_urandom',\n",
       " '_warn',\n",
       " 'betavariate',\n",
       " 'binomialvariate',\n",
       " 'choice',\n",
       " 'choices',\n",
       " 'expovariate',\n",
       " 'gammavariate',\n",
       " 'gauss',\n",
       " 'getrandbits',\n",
       " 'getstate',\n",
       " 'lognormvariate',\n",
       " 'normalvariate',\n",
       " 'paretovariate',\n",
       " 'randbytes',\n",
       " 'randint',\n",
       " 'random',\n",
       " 'randrange',\n",
       " 'sample',\n",
       " 'seed',\n",
       " 'setstate',\n",
       " 'shuffle',\n",
       " 'triangular',\n",
       " 'uniform',\n",
       " 'vonmisesvariate',\n",
       " 'weibullvariate']"
      ]
     },
     "execution_count": 113,
     "metadata": {},
     "output_type": "execute_result"
    }
   ],
   "source": [
    "# quais métodos tem a biblioteca random?\n",
    "# TODO\n",
    "dir(random)"
   ]
  },
  {
   "cell_type": "code",
   "execution_count": 77,
   "id": "617a2e48-2340-443d-91dd-66d4e0108acc",
   "metadata": {},
   "outputs": [
    {
     "name": "stdout",
     "output_type": "stream",
     "text": [
      "Help on method choice in module random:\n",
      "\n",
      "choice(seq) method of random.Random instance\n",
      "    Choose a random element from a non-empty sequence.\n",
      "\n"
     ]
    }
   ],
   "source": [
    "# imprima a ajuda sobre o método random.choice\n",
    "# TODO\n",
    "help(random.choice)"
   ]
  },
  {
   "cell_type": "code",
   "execution_count": 115,
   "id": "d4f1878c-79f1-46d6-9965-de4bdd8f93ad",
   "metadata": {},
   "outputs": [
    {
     "name": "stdout",
     "output_type": "stream",
     "text": [
      "[1, 2, 3, 4, 5, 6]\n"
     ]
    }
   ],
   "source": [
    "# crie uma lista de nome dado com números de 1 a 6 (inclusive estes)\n",
    "# TODO\n",
    "\n",
    "dado = list(range(1, 7))\n",
    "print(dado)"
   ]
  },
  {
   "cell_type": "code",
   "execution_count": 117,
   "id": "ac6a2a15-a318-4b94-8f4c-7778fe74e65b",
   "metadata": {},
   "outputs": [
    {
     "name": "stdout",
     "output_type": "stream",
     "text": [
      "O valor sorteado foi: [6]\n"
     ]
    }
   ],
   "source": [
    "# aplique a função random.choice na lista dado\n",
    "# TODO\n",
    "dado = list(range(1, 7))\n",
    "resultado = random.choices(dado, weights=[1,1,1,1,1,50])\n",
    "print(f\"O valor sorteado foi: {resultado}\")"
   ]
  },
  {
   "cell_type": "code",
   "execution_count": 84,
   "id": "39706e53-f9c3-48a8-be1e-932b0d8a2ab7",
   "metadata": {},
   "outputs": [
    {
     "name": "stdout",
     "output_type": "stream",
     "text": [
      "[6]\n"
     ]
    }
   ],
   "source": [
    "resultados = []  # Lista inicialmente vazia\n",
    "n = random.choice(dado)  # Número aleatório de 1 a 6\n",
    "resultados.append(n)  # Adiciona n à lista\n",
    "print(resultados)"
   ]
  },
  {
   "cell_type": "code",
   "execution_count": 85,
   "id": "f666fa91-f583-4d67-9182-eda940df6e2f",
   "metadata": {},
   "outputs": [],
   "source": [
    "# Repita os dois passos acima mil vezes\n",
    "# TODO\n",
    "resultados = []\n",
    "for _ in range(1000):\n",
    "    n = random.choice([1, 2, 3, 4, 5, 6])\n",
    "    resultados.append(n)"
   ]
  },
  {
   "cell_type": "code",
   "execution_count": 125,
   "id": "63b3108d-b187-4e95-95e2-be5ef65be5ed",
   "metadata": {},
   "outputs": [],
   "source": [
    "# import a biblioteca numpy com apelido np\n",
    "# TODO\n",
    "import numpy as np"
   ]
  },
  {
   "cell_type": "code",
   "execution_count": 127,
   "id": "0a0f1e9f-95e4-4765-80bd-d1386bacd462",
   "metadata": {},
   "outputs": [
    {
     "name": "stdout",
     "output_type": "stream",
     "text": [
      "3.541\n"
     ]
    }
   ],
   "source": [
    "# usa a função mean da biblioteca numpy para calcular a média dos resultados\n",
    "# TODO\n",
    "media = np.mean(resultados)\n",
    "print(media)"
   ]
  },
  {
   "cell_type": "code",
   "execution_count": 129,
   "id": "16b18708-3050-4801-af95-da896ea9edaa",
   "metadata": {},
   "outputs": [
    {
     "name": "stdout",
     "output_type": "stream",
     "text": [
      "1.7332971470581724\n"
     ]
    }
   ],
   "source": [
    "# use a função std da biblioteca numpy para calcular o desvio padrão dos resultados\n",
    "# TODO\n",
    "desvio_padrao = np.std(resultados)\n",
    "print(desvio_padrao)"
   ]
  },
  {
   "cell_type": "code",
   "execution_count": 131,
   "id": "55550fb3-b78f-4d0b-bd1f-8fcf82864b43",
   "metadata": {},
   "outputs": [],
   "source": [
    "# import a biblioteca matplotlib.pyplot com apelido plt\n",
    "# TODO\n",
    "import matplotlib.pyplot as plt"
   ]
  },
  {
   "cell_type": "code",
   "execution_count": 135,
   "id": "fb2b6f8b-0064-4ec6-91da-82f1127bf046",
   "metadata": {},
   "outputs": [
    {
     "data": {
      "text/plain": [
       "(array([175.,   0., 149.,   0., 158.,   0., 178.,   0., 158., 182.]),\n",
       " array([1. , 1.5, 2. , 2.5, 3. , 3.5, 4. , 4.5, 5. , 5.5, 6. ]),\n",
       " <BarContainer object of 10 artists>)"
      ]
     },
     "execution_count": 135,
     "metadata": {},
     "output_type": "execute_result"
    },
    {
     "data": {
      "image/png": "[encoded data removed]",
      "text/plain": [
       "<Figure size 640x480 with 1 Axes>"
      ]
     },
     "metadata": {},
     "output_type": "display_data"
    }
   ],
   "source": [
    "# use a função hist da biblioteca plt para criar um histograma de resultados\n",
    "# TODO\n",
    "plt.hist(resultados)"
   ]
  },
  {
   "cell_type": "code",
   "execution_count": 137,
   "id": "610757ac-aeea-45f4-ab43-c8a000081070",
   "metadata": {},
   "outputs": [
    {
     "data": {
      "image/png": "[encoded data removed]",
      "text/plain": [
       "<Figure size 640x480 with 1 Axes>"
      ]
     },
     "metadata": {},
     "output_type": "display_data"
    }
   ],
   "source": [
    "# use a função show da biblioteca plt para mostrar o histograma\n",
    "# TODO\n",
    "plt.hist(resultados)\n",
    "plt.show()"
   ]
  }
 ],
 "metadata": {
  "kernelspec": {
   "display_name": "Python [conda env:base] *",
   "language": "python",
   "name": "conda-base-py"
  },
  "language_info": {
   "codemirror_mode": {
    "name": "ipython",
    "version": 3
   },
   "file_extension": ".py",
   "mimetype": "text/x-python",
   "name": "python",
   "nbconvert_exporter": "python",
   "pygments_lexer": "ipython3",
   "version": "3.12.7"
  }
 },
 "nbformat": 4,
 "nbformat_minor": 5
}
