{
 "cells": [
  {
   "cell_type": "code",
   "execution_count": 1,
   "id": "ede3c819-6f5f-411d-8672-ee886c47dd3c",
   "metadata": {},
   "outputs": [
    {
     "name": "stdout",
     "output_type": "stream",
     "text": [
      "A temperatura é de: 13.61\n"
     ]
    }
   ],
   "source": [
    "# Exercício de Fixação - Você não sabe se está frio ou quente, porque te passaram a temperatura de 56,5 em Fahrenheit. \n",
    "#Use float e operações para resolver esse problema\n",
    "\n",
    "# formula de conversão -> C = (F - 32) * 5 / 9\n",
    "\n",
    "grau_fahrenheit = 56.5\n",
    "grau_celsius = (grau_fahrenheit - 32) * 5 / 9\n",
    "print(f\"A temperatura é de: {grau_celsius:.2f}\")"
   ]
  },
  {
   "cell_type": "code",
   "execution_count": 14,
   "id": "e86837b4-3416-4a0c-8a96-dc0941f5c43b",
   "metadata": {},
   "outputs": [
    {
     "name": "stdout",
     "output_type": "stream",
     "text": [
      "['25\\n', '36\\n', '10\\n', '48\\n', '59\\n', '-15\\n', '26\\n', '-26\\n', '-15\\n', '-1235\\n', '-89\\n', '59\\n', '10\\n', '0\\n', '0\\n', '10\\n', '-59\\n', '10\\n', '23\\n', '56\\n', '-89\\n', '-47\\n', '15\\n', '10\\n', '9\\n', '8\\n', '4\\n', '3\\n', '-25\\n', '10\\n']\n"
     ]
    }
   ],
   "source": [
    "#Questão 01 - leia o arquivo numeros.txt\n",
    "## TODO\n",
    "\n",
    "#Descrevendo o processo para realizar a devida leitura\n",
    "# 1º baixe o arquivo\n",
    "# 2º coloque o arquino na pasta onde estar recebendo os script\n",
    "# 3º escreva o script para abrir o arquivo\n",
    "# 4º coloque cada linha um elemento da lista\n",
    "# 5º imprima usando o print(nome do arquivo)\n",
    "\n",
    "# abrindo o arquivo:\n",
    "f = open(\"numeros.txt\",'r')\n",
    "\n",
    "# colocando cada linha num elemento de uma lista\n",
    "numeros = f.readlines()\n",
    "\n",
    "# imprimindo a lista\n",
    "print(numeros)\n",
    "\n",
    "# open(): é uma função embutida do Python usada para abrir arquivos.\n",
    "#\"numeros.txt\": é o nome do arquivo que você quer abrir.\n",
    "#'r': é o modo de abertura. Nesse caso, 'r' significa \"read\", ou seja, abrir o arquivo para leitura.\n",
    "#f: é a variável que vai armazenar o objeto do arquivo. Depois disso, você pode usar f.read(), f.readline(), etc., para ler o conteúdo.\n"
   ]
  },
  {
   "cell_type": "code",
   "execution_count": 21,
   "id": "085a8b57-6078-462d-a550-37b0275345de",
   "metadata": {},
   "outputs": [
    {
     "name": "stdout",
     "output_type": "stream",
     "text": [
      "['25\\n', '36\\n', '10\\n', '48\\n', '59\\n', '-15\\n', '26\\n', '-26\\n', '-15\\n', '-1235\\n', '-89\\n', '59\\n', '10\\n', '0\\n', '0\\n', '10\\n', '-59\\n', '10\\n', '23\\n', '56\\n', '-89\\n', '-47\\n', '15\\n', '10\\n', '9\\n', '8\\n', '4\\n', '3\\n', '-25\\n', '10\\n']\n",
      "[25, 36, 10, 48, 59, -15, 26, -26, -15, -1235, -89, 59, 10, 0, 0, 10, -59, 10, 23, 56, -89, -47, 15, 10, 9, 8, 4, 3, -25, 10]\n"
     ]
    }
   ],
   "source": [
    "# coloque todos os números numa lista chamada numbers\n",
    "## TODO DUVIDAAAAAAAAAAAAAAAAAAAAAAAAAAAAAAAAAAAAAAAAAAAAAAAAAAAAAAAAAAAAAAAAAAAAAAAAAAAAAAAAAAAAAAAAAAAAAAAAAAAAAAAAAAAAAAAAAAAAAAAAAAAAAAAAAAAAAA\n",
    "\n",
    "# abrindo o arquivo:\n",
    "f = open(\"numeros.txt\", 'r')\n",
    "\n",
    "# colocando cada linha num elemento de uma lista\n",
    "numeros = f.readlines()\n",
    "\n",
    "# imprimindo a lista\n",
    "print(numeros)\n",
    "\n",
    "# coloque todos os números numa lista chamada numbers\n",
    "numbers = [int(linha.strip()) for linha in numeros]  # ou use float() se forem números com vírgula\n",
    "\n",
    "# imprimindo a lista final com os números convertidos\n",
    "print(numbers)\n",
    "\n",
    "# fechando o arquivo\n",
    "f.close()"
   ]
  },
  {
   "cell_type": "code",
   "execution_count": 25,
   "id": "2f45e33e-7b0c-41a5-860b-0abecf56de79",
   "metadata": {},
   "outputs": [],
   "source": [
    "#Questão 3 - feche o arquivo\n",
    "## TODO\n",
    "f.close()"
   ]
  },
  {
   "cell_type": "code",
   "execution_count": 27,
   "id": "c2e6062e-81a6-4f9f-8d1a-eab7591ed0dc",
   "metadata": {},
   "outputs": [
    {
     "data": {
      "text/plain": [
       "30"
      ]
     },
     "execution_count": 27,
     "metadata": {},
     "output_type": "execute_result"
    }
   ],
   "source": [
    "#Questão 4 - quantos números tem na lista?\n",
    "# Dica: Use a built-in funciton len\n",
    "## TODO\n",
    "\n",
    "len(numbers)"
   ]
  },
  {
   "cell_type": "code",
   "execution_count": 29,
   "id": "33bf5589-bcc8-45f9-8685-2abd4ac592ae",
   "metadata": {},
   "outputs": [
    {
     "name": "stdout",
     "output_type": "stream",
     "text": [
      "True\n"
     ]
    }
   ],
   "source": [
    "#Questão 5 -1235 está na lista?\n",
    "## TODO\n",
    "\n",
    "numeracao = -1235\n",
    "\n",
    "print( numeracao in numbers)"
   ]
  },
  {
   "cell_type": "code",
   "execution_count": 39,
   "id": "62e90f2c-bb78-400b-8af3-c1ff14b74238",
   "metadata": {},
   "outputs": [
    {
     "name": "stdout",
     "output_type": "stream",
     "text": [
      "O número 10 aparece 6 vezes.\n"
     ]
    }
   ],
   "source": [
    "#Questão 5 - quantas vezes o número 10 aparece na lista?\n",
    "# DICA 1: use o método count\n",
    "# DICA 2: não se esqueça do caracter '\\n'\n",
    "## TODO\n",
    "\n",
    "quantos_10 = numeros.count('10\\n')\n",
    "print(\"O número 10 aparece\", quantos_10, \"vezes.\")"
   ]
  },
  {
   "cell_type": "code",
   "execution_count": 45,
   "id": "41439c3b-139b-46d6-a18d-66a00b402e5b",
   "metadata": {},
   "outputs": [
    {
     "name": "stdout",
     "output_type": "stream",
     "text": [
      "['25\\n', '36\\n', '10\\n', '48\\n', '59\\n', '-15\\n', '26\\n', '-26\\n', '-15\\n', '-1235\\n', '-89\\n', '59\\n', '10\\n', '0\\n', '0\\n', '10\\n', '-59\\n', '10\\n', '23\\n', '56\\n', '-89\\n', '-47\\n', '15\\n', '10\\n', '9\\n', '8\\n', '4\\n', '3\\n', '-25\\n', '10\\n']\n"
     ]
    }
   ],
   "source": [
    "#Questão 6 - leia o arquivo numeros.txt\n",
    "## TODO\n",
    "# abrindo o arquivo:\n",
    "f = open(\"numeros.txt\", 'r')\n",
    "\n",
    "# colocando cada linha num elemento de uma lista\n",
    "numeros = f.readlines()\n",
    "\n",
    "# imprimindo a lista\n",
    "print(numeros)"
   ]
  },
  {
   "cell_type": "code",
   "execution_count": 49,
   "id": "3863716c-606a-40e4-931f-f0dd66633b1a",
   "metadata": {},
   "outputs": [
    {
     "name": "stdout",
     "output_type": "stream",
     "text": [
      "[25, 36, 10, 48, 59, -15, 26, -26, -15, -1235, -89, 59, 10, 0, 0, 10, -59, 10, 23, 56, -89, -47, 15, 10, 9, 8, 4, 3, -25, 10]\n"
     ]
    }
   ],
   "source": [
    "#Questão 7 - coloque todos os números numa lista chamada numbers\n",
    "## TODO\n",
    "# coloque todos os números numa lista chamada numbers\n",
    "numbers = [int(linha.strip()) for linha in numeros]  # ou use float() se forem números com vírgula\n",
    "\n",
    "# imprimindo a lista final com os números convertidos\n",
    "print(numbers)"
   ]
  },
  {
   "cell_type": "code",
   "execution_count": 53,
   "id": "16de34ff-8e90-41aa-9a77-3a04e048843d",
   "metadata": {},
   "outputs": [],
   "source": [
    "#Questão 8 - feche o arquivo\n",
    "## TODO\n",
    "\n",
    "# fechando o arquivo\n",
    "f.close()"
   ]
  },
  {
   "cell_type": "code",
   "execution_count": 59,
   "id": "c1c04b64-3cbf-4741-a3cc-84d5132ee0de",
   "metadata": {},
   "outputs": [
    {
     "name": "stdout",
     "output_type": "stream",
     "text": [
      "[25, 36, 10, 48, 59, -15, 26, -26, -15, -1235, -89, 59, 10, 0, 0, 10, -59, 10, 23, 56, -89, -47, 15, 10, 9, 8, 4, 3, -25, 10]\n"
     ]
    }
   ],
   "source": [
    "#Questão 9 - mude o tipo de cada elemento da lista para inteiro\n",
    "## DICA: crie um objeto chamado mapper aplicando int a todos elementos da lista (use map)\n",
    "## TODO - NÃO SEI FAZERRRRRRRRRRRRRRRRRRRRRRRRRRRRRRRR\n",
    "\n",
    "# Abrindo o arquivo\n",
    "f = open(\"numeros.txt\", 'r')\n",
    "\n",
    "# Lendo o conteúdo do arquivo\n",
    "conteudo = f.read()\n",
    "\n",
    "# Dividindo a string em uma lista de números (supondo que sejam separados por espaço)\n",
    "numeros = conteudo.split()  # se estiverem separados por espaço\n",
    "\n",
    "# Convertendo todos os elementos para inteiros\n",
    "mapper = map(int, numeros)\n",
    "\n",
    "# Transformando o objeto map em uma lista\n",
    "numbers = list(mapper)\n",
    "\n",
    "# Imprimindo a lista de números inteiros\n",
    "print(numbers)\n",
    "\n",
    "# Fechando o arquivo\n",
    "f.close()"
   ]
  },
  {
   "cell_type": "code",
   "execution_count": 64,
   "id": "4249dba3-73dd-46da-ba97-deb612fa9a21",
   "metadata": {},
   "outputs": [
    {
     "name": "stdout",
     "output_type": "stream",
     "text": [
      "[25, 36, 10, 48, 59, -15, 26, -26, -15, -1235, -89, 59, 10, 0, 0, 10, -59, 10, 23, 56, -89, -47, 15, 10, 9, 8, 4, 3, -25, 10]\n"
     ]
    }
   ],
   "source": [
    "#Questão 10 - mude o tipo do elemento mapper acima para lista\n",
    "## TODO\n",
    "\n",
    "# Abrindo o arquivo\n",
    "f = open(\"numeros.txt\", 'r')\n",
    "\n",
    "# Lendo o conteúdo do arquivo\n",
    "conteudo = f.read()\n",
    "\n",
    "# Dividindo a string em uma lista de números (supondo que sejam separados por espaço)\n",
    "numeros = conteudo.split()  # se estiverem separados por espaço\n",
    "\n",
    "# Convertendo todos os elementos para inteiros e transformando em lista\n",
    "mapper = list(map(int, numeros))\n",
    "\n",
    "# Imprimindo a lista de números inteiros\n",
    "print(mapper)\n",
    "\n",
    "# Fechando o arquivo\n",
    "f.close()\n"
   ]
  },
  {
   "cell_type": "code",
   "execution_count": 76,
   "id": "521c19c8-cacc-40ff-9cd0-0cd72680cb71",
   "metadata": {},
   "outputs": [
    {
     "name": "stdout",
     "output_type": "stream",
     "text": [
      "-1169\n"
     ]
    }
   ],
   "source": [
    "#Questão 11 -  qual a soma de todos os inteiros no arquivo numeros.txt?\n",
    "## DICA: use a build-in funciont sum\n",
    "## TODO (resposta -1169)\n",
    "\n",
    "somatorio = sum(mapper)\n",
    "print(somatorio)"
   ]
  }
 ],
 "metadata": {
  "kernelspec": {
   "display_name": "Python [conda env:Rafael]",
   "language": "python",
   "name": "conda-env-Rafael-py"
  },
  "language_info": {
   "codemirror_mode": {
    "name": "ipython",
    "version": 3
   },
   "file_extension": ".py",
   "mimetype": "text/x-python",
   "name": "python",
   "nbconvert_exporter": "python",
   "pygments_lexer": "ipython3",
   "version": "3.12.9"
  }
 },
 "nbformat": 4,
 "nbformat_minor": 5
}
